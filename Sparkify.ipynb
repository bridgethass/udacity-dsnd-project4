{
 "cells": [
  {
   "cell_type": "markdown",
   "metadata": {},
   "source": [
    "# Sparkify Project \n",
    "\n",
    "This notebook was generated following the Udacity Sparkify Project Workspace notebook, following the major steps outlined below. It uses a 128MB subset of the Sparkify data `mini_sparkify_event_data.json`.\n",
    "\n",
    "## Table of Contents:\n",
    "* [1. Load, Explore, and Clean Dataset](#load_explore_clean)\n",
    "* [2. Exploratory Data Analysis](#eda)\n",
    "* [3. Feature Engineering](#feature_eng)\n",
    "* [4. Feature Generation](#feature_gen)\n",
    "* [5. Modeling](#model)\n",
    "* [6. Discussion](#discussion)\n",
    "\n"
   ]
  },
  {
   "cell_type": "code",
   "execution_count": 1,
   "metadata": {},
   "outputs": [],
   "source": [
    "# import pyspark libraries\n",
    "from pyspark.sql import SparkSession\n",
    "from pyspark.sql.functions import udf, asc, desc, count, avg, col, lit\n",
    "from pyspark.sql.functions import sum as fsum\n",
    "from pyspark.sql.types import StringType\n",
    "from pyspark.sql.types import IntegerType\n",
    "\n",
    "#import standard libraries\n",
    "import numpy as np\n",
    "import pandas as pd\n",
    "import matplotlib.pyplot as plt\n",
    "import seaborn as sns\n",
    "from datetime import datetime\n",
    "from datetime import timedelta"
   ]
  },
  {
   "cell_type": "code",
   "execution_count": 2,
   "metadata": {},
   "outputs": [],
   "source": [
    "# create a Spark session\n",
    "spark = SparkSession \\\n",
    "    .builder \\\n",
    "    .appName(\"Sparkify Capstone Project\") \\\n",
    "    .getOrCreate()"
   ]
  },
  {
   "cell_type": "markdown",
   "metadata": {},
   "source": [
    "# 1. Load, Explore, and Clean Dataset<a class=\"anchor\" id=\"load_explore_clean\"></a>\n",
    "\n",
    "In this workspace, the mini-dataset file is `mini_sparkify_event_data.json`. Load and clean the dataset, checking for invalid or missing data - for example, records without userids or sessionids. \n",
    "\n",
    "## 1a. Load Dataset"
   ]
  },
  {
   "cell_type": "code",
   "execution_count": 3,
   "metadata": {},
   "outputs": [],
   "source": [
    "sparkify_data = \"./mini_sparkify_event_data.json\"\n",
    "sparkify = spark.read.json(sparkify_data)"
   ]
  },
  {
   "cell_type": "markdown",
   "metadata": {},
   "source": [
    "## 1b. Explore Dataset\n",
    "First and foremost we need to see what we're looking at and get a better sense of the data.\n",
    "\n",
    "To start, we'll look at the data scheme and preview some of the contents. "
   ]
  },
  {
   "cell_type": "code",
   "execution_count": 4,
   "metadata": {
    "scrolled": true
   },
   "outputs": [
    {
     "name": "stdout",
     "output_type": "stream",
     "text": [
      "root\n",
      " |-- artist: string (nullable = true)\n",
      " |-- auth: string (nullable = true)\n",
      " |-- firstName: string (nullable = true)\n",
      " |-- gender: string (nullable = true)\n",
      " |-- itemInSession: long (nullable = true)\n",
      " |-- lastName: string (nullable = true)\n",
      " |-- length: double (nullable = true)\n",
      " |-- level: string (nullable = true)\n",
      " |-- location: string (nullable = true)\n",
      " |-- method: string (nullable = true)\n",
      " |-- page: string (nullable = true)\n",
      " |-- registration: long (nullable = true)\n",
      " |-- sessionId: long (nullable = true)\n",
      " |-- song: string (nullable = true)\n",
      " |-- status: long (nullable = true)\n",
      " |-- ts: long (nullable = true)\n",
      " |-- userAgent: string (nullable = true)\n",
      " |-- userId: string (nullable = true)\n",
      "\n"
     ]
    }
   ],
   "source": [
    "sparkify.printSchema()"
   ]
  },
  {
   "cell_type": "markdown",
   "metadata": {},
   "source": [
    "To get a quick look at each of these columns, let's print the first 5 unique values for each. "
   ]
  },
  {
   "cell_type": "code",
   "execution_count": 5,
   "metadata": {},
   "outputs": [
    {
     "name": "stdout",
     "output_type": "stream",
     "text": [
      "+--------------------+\n",
      "|              artist|\n",
      "+--------------------+\n",
      "|                null|\n",
      "|                 !!!|\n",
      "|        & And Oceans|\n",
      "|'N Sync/Phil Collins|\n",
      "|        'Til Tuesday|\n",
      "+--------------------+\n",
      "only showing top 5 rows\n",
      "\n",
      "None\n",
      "17656 unique artists\n",
      "+----------+\n",
      "|      auth|\n",
      "+----------+\n",
      "| Cancelled|\n",
      "|     Guest|\n",
      "| Logged In|\n",
      "|Logged Out|\n",
      "+----------+\n",
      "\n",
      "None\n",
      "4 unique auths\n",
      "+---------+\n",
      "|firstName|\n",
      "+---------+\n",
      "|     null|\n",
      "| Adelaida|\n",
      "|   Adrian|\n",
      "|  Adriana|\n",
      "|   Adriel|\n",
      "+---------+\n",
      "only showing top 5 rows\n",
      "\n",
      "None\n",
      "190 unique firstNames\n",
      "+------+\n",
      "|gender|\n",
      "+------+\n",
      "|  null|\n",
      "|     F|\n",
      "|     M|\n",
      "+------+\n",
      "\n",
      "None\n",
      "3 unique genders\n",
      "+-------------+\n",
      "|itemInSession|\n",
      "+-------------+\n",
      "|            0|\n",
      "|            1|\n",
      "|            2|\n",
      "|            3|\n",
      "|            4|\n",
      "+-------------+\n",
      "only showing top 5 rows\n",
      "\n",
      "None\n",
      "1322 unique itemInSessions\n",
      "+---------+\n",
      "| lastName|\n",
      "+---------+\n",
      "|     null|\n",
      "|    Adams|\n",
      "|  Aguilar|\n",
      "|Alexander|\n",
      "|    Allen|\n",
      "+---------+\n",
      "only showing top 5 rows\n",
      "\n",
      "None\n",
      "174 unique lastNames\n",
      "+-------+\n",
      "| length|\n",
      "+-------+\n",
      "|   null|\n",
      "|0.78322|\n",
      "|2.16771|\n",
      "|4.04853|\n",
      "| 4.8322|\n",
      "+-------+\n",
      "only showing top 5 rows\n",
      "\n",
      "None\n",
      "14866 unique lengths\n",
      "+-----+\n",
      "|level|\n",
      "+-----+\n",
      "| free|\n",
      "| paid|\n",
      "+-----+\n",
      "\n",
      "None\n",
      "2 unique levels\n",
      "+--------------------+\n",
      "|            location|\n",
      "+--------------------+\n",
      "|                null|\n",
      "|          Albany, OR|\n",
      "|Albany-Schenectad...|\n",
      "|      Alexandria, LA|\n",
      "|Allentown-Bethleh...|\n",
      "+--------------------+\n",
      "only showing top 5 rows\n",
      "\n",
      "None\n",
      "115 unique locations\n",
      "+------+\n",
      "|method|\n",
      "+------+\n",
      "|   GET|\n",
      "|   PUT|\n",
      "+------+\n",
      "\n",
      "None\n",
      "2 unique methods\n",
      "+--------------------+\n",
      "|                page|\n",
      "+--------------------+\n",
      "|               About|\n",
      "|          Add Friend|\n",
      "|     Add to Playlist|\n",
      "|              Cancel|\n",
      "|Cancellation Conf...|\n",
      "+--------------------+\n",
      "only showing top 5 rows\n",
      "\n",
      "None\n",
      "22 unique pages\n",
      "+-------------+\n",
      "| registration|\n",
      "+-------------+\n",
      "|         null|\n",
      "|1521380675000|\n",
      "|1526739206000|\n",
      "|1526838391000|\n",
      "|1528403713000|\n",
      "+-------------+\n",
      "only showing top 5 rows\n",
      "\n",
      "None\n",
      "226 unique registrations\n",
      "+---------+\n",
      "|sessionId|\n",
      "+---------+\n",
      "|        1|\n",
      "|        2|\n",
      "|        3|\n",
      "|        4|\n",
      "|        5|\n",
      "+---------+\n",
      "only showing top 5 rows\n",
      "\n",
      "None\n",
      "2354 unique sessionIds\n",
      "+--------------------+\n",
      "|                song|\n",
      "+--------------------+\n",
      "|                null|\n",
      "|\u001c",
      "ÃÂg ÃÂtti Gr...|\n",
      "| I Will Not Reap ...|\n",
      "|              !@*$%#|\n",
      "|#!*@ You Tonight ...|\n",
      "+--------------------+\n",
      "only showing top 5 rows\n",
      "\n",
      "None\n",
      "58481 unique songs\n",
      "+------+\n",
      "|status|\n",
      "+------+\n",
      "|   200|\n",
      "|   307|\n",
      "|   404|\n",
      "+------+\n",
      "\n",
      "None\n",
      "3 unique statuss\n",
      "+-------------+\n",
      "|           ts|\n",
      "+-------------+\n",
      "|1538352117000|\n",
      "|1538352180000|\n",
      "|1538352394000|\n",
      "|1538352416000|\n",
      "|1538352676000|\n",
      "+-------------+\n",
      "only showing top 5 rows\n",
      "\n",
      "None\n",
      "277447 unique tss\n",
      "+--------------------+\n",
      "|           userAgent|\n",
      "+--------------------+\n",
      "|                null|\n",
      "|\"Mozilla/5.0 (Mac...|\n",
      "|\"Mozilla/5.0 (Mac...|\n",
      "|\"Mozilla/5.0 (Mac...|\n",
      "|\"Mozilla/5.0 (Mac...|\n",
      "+--------------------+\n",
      "only showing top 5 rows\n",
      "\n",
      "None\n",
      "57 unique userAgents\n",
      "+------+\n",
      "|userId|\n",
      "+------+\n",
      "|      |\n",
      "|    10|\n",
      "|   100|\n",
      "|100001|\n",
      "|100002|\n",
      "+------+\n",
      "only showing top 5 rows\n",
      "\n",
      "None\n",
      "226 unique userIds\n"
     ]
    }
   ],
   "source": [
    "for column in sparkify.columns:\n",
    "    print(sparkify.select(column).dropDuplicates().sort(column).show(5))\n",
    "    print(str(sparkify.select(column).dropDuplicates().count()) + ' unique ' + column + 's')"
   ]
  },
  {
   "cell_type": "markdown",
   "metadata": {},
   "source": [
    "This gives us a better understanding of what each of these columns represents.\n",
    "\n",
    "- *artist*: singer user is listening to\n",
    "- *auth*: authentication - whether the user is cancelled, guest, or logged in/out\n",
    "- *firstName*: user's first name\n",
    "- *gender*: user's gender (male, female, null) \n",
    "- *itemInSession*: item id of song in session ? \n",
    "- *lastName*: user's last name\n",
    "- *length*: length of song (in minutes?)\n",
    "- *level*: user's subscription level (free or paid)\n",
    "- *location*: user's location\n",
    "- *method*: GET/PULL (not entirely sure what this means)\n",
    "- *page*: page user is on / action taken \n",
    "- *registration*: time stamp when user registered << could be useful\n",
    "- *sessionId*: id of session\n",
    "- *song*: name of song played\n",
    "- *status*: HTTP status code (200 = request succeeded, 307 = temporary redirect, 404 = error)\n",
    "- *ts*: timestamp of song \n",
    "- *userAgent*: platform used (web browser & computer)\n",
    "- *userId*: id of user \n",
    " \n",
    "On first inspection we can get a sense of what we might need to look into a little more\n",
    "\n",
    "*YES*: A handful of these may contain some useful information to predict churn:\n",
    " - *page* - this contains our feature of interest (churn) as well as other features likely related to churn\n",
    " - *level* - whether the user has a paid or free subscription may affect churn rates\n",
    " - *length* - while length of an individual song likely doesn't come into play, this might be useful if we aggregate total length of songs played in a session\n",
    " \n",
    "*NO*: A handful of these variables may not be as useful for predicting churn:\n",
    " - *firstName*, *lastName*: user name should not have any correlation\n",
    " - *song* - it's unlikely that the song played is directly related to user churn since it's all about the user's preference. Whether the user liked/disliked the song is contained elsewhere\n",
    " - *method* - probably not super useful, will ignore in this analysis\n",
    "\n",
    "*MAYBE*: Unknown - lastly the effect of some of these variables on churn are unknown, and require further exploration, such as\n",
    " - *gender* - could be related, but can't tell right away\n",
    " - *userAgent* - while the browser and device used may have some correlation, we'll leave this out for now, as it is better suited to ask a different question. If some platforms cause technical issues we can look at the error data to get at this."
   ]
  },
  {
   "cell_type": "markdown",
   "metadata": {},
   "source": [
    "## 1c. Clean Dataset\n",
    "First let's count the total number of events:"
   ]
  },
  {
   "cell_type": "code",
   "execution_count": 6,
   "metadata": {},
   "outputs": [
    {
     "data": {
      "text/plain": [
       "286500"
      ]
     },
     "execution_count": 6,
     "metadata": {},
     "output_type": "execute_result"
    }
   ],
   "source": [
    "sparkify.count()"
   ]
  },
  {
   "cell_type": "markdown",
   "metadata": {},
   "source": [
    "Drop rows with any missing values, and check the count again to see how many were removed:"
   ]
  },
  {
   "cell_type": "code",
   "execution_count": 7,
   "metadata": {},
   "outputs": [
    {
     "data": {
      "text/plain": [
       "286500"
      ]
     },
     "execution_count": 7,
     "metadata": {},
     "output_type": "execute_result"
    }
   ],
   "source": [
    "sparkify_valid = sparkify.dropna(how=\"any\",subset=[\"userId\",\"sessionId\"])\n",
    "sparkify_valid.count()"
   ]
  },
  {
   "cell_type": "markdown",
   "metadata": {},
   "source": [
    "Looks like there weren't any completely missing values in this smaller dataset, but lets take a look at the users:"
   ]
  },
  {
   "cell_type": "code",
   "execution_count": 8,
   "metadata": {},
   "outputs": [
    {
     "name": "stdout",
     "output_type": "stream",
     "text": [
      "+------+\n",
      "|userId|\n",
      "+------+\n",
      "|      |\n",
      "|    10|\n",
      "|   100|\n",
      "|100001|\n",
      "|100002|\n",
      "+------+\n",
      "only showing top 5 rows\n",
      "\n"
     ]
    }
   ],
   "source": [
    "sparkify.select(\"userId\").dropDuplicates().sort(\"userId\").show(5)"
   ]
  },
  {
   "cell_type": "markdown",
   "metadata": {},
   "source": [
    "The first user id is empty, this likely represents users that looked at the app but didn't create an account. Lets find how many empty (null) users there are:"
   ]
  },
  {
   "cell_type": "code",
   "execution_count": 9,
   "metadata": {},
   "outputs": [
    {
     "data": {
      "text/plain": [
       "278154"
      ]
     },
     "execution_count": 9,
     "metadata": {},
     "output_type": "execute_result"
    }
   ],
   "source": [
    "sparkify_valid = sparkify_valid.filter(sparkify_valid[\"userId\"] != \"\")\n",
    "sparkify_valid.count()"
   ]
  },
  {
   "cell_type": "markdown",
   "metadata": {},
   "source": [
    "Now we can see there are fewer in this valid dataset than in the full dataset - we can count the number of missing entries below:"
   ]
  },
  {
   "cell_type": "code",
   "execution_count": 10,
   "metadata": {},
   "outputs": [
    {
     "data": {
      "text/plain": [
       "8346"
      ]
     },
     "execution_count": 10,
     "metadata": {},
     "output_type": "execute_result"
    }
   ],
   "source": [
    "sparkify.filter(sparkify['userId'] == '').count()"
   ]
  },
  {
   "cell_type": "markdown",
   "metadata": {},
   "source": [
    "# 2. Exploratory Data Analysis<a class=\"anchor\" id=\"eda\"></a>\n",
    "When you're working with the full dataset, perform EDA by loading a small subset of the data and doing basic manipulations within Spark. In this workspace, you are already provided a small subset of data you can explore.\n",
    "\n",
    "### Define Churn\n",
    "\n",
    "Once you've done some preliminary analysis, create a column `Churn` to use as the label for your model. I suggest using the `Cancellation Confirmation` events to define your churn, which happen for both paid and free users. As a bonus task, you can also look into the `Downgrade` events.\n",
    "\n",
    "### Explore & Clean Data\n",
    "Once you've defined churn, perform some exploratory data analysis to observe the behavior for users who stayed vs users who churned. You can start by exploring aggregates on these two groups of users, observing how much of a specific action they experienced per a certain time unit or number of songs played."
   ]
  },
  {
   "cell_type": "markdown",
   "metadata": {},
   "source": [
    "## 2a. Explore Page Data\n",
    "\n",
    "First let's look at the different actions a user can take by looking at the unique *page* options:"
   ]
  },
  {
   "cell_type": "code",
   "execution_count": 11,
   "metadata": {},
   "outputs": [
    {
     "name": "stdout",
     "output_type": "stream",
     "text": [
      "+--------------------+\n",
      "|                page|\n",
      "+--------------------+\n",
      "|               About|\n",
      "|          Add Friend|\n",
      "|     Add to Playlist|\n",
      "|              Cancel|\n",
      "|Cancellation Conf...|\n",
      "|           Downgrade|\n",
      "|               Error|\n",
      "|                Help|\n",
      "|                Home|\n",
      "|               Login|\n",
      "|              Logout|\n",
      "|            NextSong|\n",
      "|            Register|\n",
      "|         Roll Advert|\n",
      "|       Save Settings|\n",
      "|            Settings|\n",
      "|    Submit Downgrade|\n",
      "| Submit Registration|\n",
      "|      Submit Upgrade|\n",
      "|         Thumbs Down|\n",
      "|           Thumbs Up|\n",
      "|             Upgrade|\n",
      "+--------------------+\n",
      "\n"
     ]
    }
   ],
   "source": [
    "sparkify.select(\"page\").dropDuplicates().sort(\"page\").show(25)"
   ]
  },
  {
   "cell_type": "markdown",
   "metadata": {},
   "source": [
    "Let's look at the number of actions taken for the pages that look to be related to churn:"
   ]
  },
  {
   "cell_type": "code",
   "execution_count": 12,
   "metadata": {},
   "outputs": [],
   "source": [
    "def count_page_actions(action):\n",
    "    \"\"\"count_page_actions counts the total number of a given action from the page variable\n",
    "    ARGS: \n",
    "    action - the page that you want to count \n",
    "    \n",
    "    RETURNS:\n",
    "    count - the count of page actions\n",
    "    \"\"\"\n",
    "    count = sparkify.filter(sparkify['page'] == action).count()\n",
    "    return count"
   ]
  },
  {
   "cell_type": "code",
   "execution_count": 13,
   "metadata": {},
   "outputs": [
    {
     "name": "stdout",
     "output_type": "stream",
     "text": [
      "# of Cancellation Confirmations: 52\n",
      "# of Cancellations: 52\n",
      "# of Submit Downgrades: 63\n",
      "# of Downgrades: 2055\n"
     ]
    }
   ],
   "source": [
    "print('# of Cancellation Confirmations: ' + str(count_page_actions('Cancellation Confirmation')))\n",
    "print('# of Cancellations: ' + str(count_page_actions('Cancel')))\n",
    "print('# of Submit Downgrades: ' + str(count_page_actions('Submit Downgrade')))\n",
    "print('# of Downgrades: ' + str(count_page_actions('Downgrade')))"
   ]
  },
  {
   "cell_type": "markdown",
   "metadata": {},
   "source": [
    "It looks like Cancels and Cancellations may be the same thing, but there are more Downgrades than Submit Downgrades -- let's assume \"Downgrade\" is the page before \"Submit Downgrade\" so represents people who are thinking about downgrading but may or may not decide to in the end. \n",
    "\n",
    "## 2b. Define Churn\n",
    "First let's defined churned users as only those who cancelled:"
   ]
  },
  {
   "cell_type": "code",
   "execution_count": 14,
   "metadata": {},
   "outputs": [],
   "source": [
    "churned_users = sparkify_valid.where((sparkify_valid['page']==\"Cancellation Confirmation\")).select('userId').dropDuplicates().toPandas()"
   ]
  },
  {
   "cell_type": "markdown",
   "metadata": {},
   "source": [
    "Make a new pyspark dataframe containing the churn information as a boolean (True/False):"
   ]
  },
  {
   "cell_type": "code",
   "execution_count": 15,
   "metadata": {},
   "outputs": [],
   "source": [
    "sparkify_churn = sparkify_valid.withColumn(\"churn\", sparkify_valid.userId.isin(churned_users['userId'].tolist()))"
   ]
  },
  {
   "cell_type": "code",
   "execution_count": 16,
   "metadata": {},
   "outputs": [
    {
     "name": "stdout",
     "output_type": "stream",
     "text": [
      "% churned - cancelled:  16.0\n"
     ]
    }
   ],
   "source": [
    "pct_churned = np.round(100*sparkify_churn.filter(sparkify_churn['churn'] == True).count()/sparkify_churn.count())\n",
    "print('% churned - cancelled: ',pct_churned)"
   ]
  },
  {
   "cell_type": "markdown",
   "metadata": {},
   "source": [
    "If we want to look at churned users as those who have cancelled their subscriptions and submitted downgrades, we could use the following:"
   ]
  },
  {
   "cell_type": "code",
   "execution_count": 17,
   "metadata": {},
   "outputs": [
    {
     "name": "stdout",
     "output_type": "stream",
     "text": [
      "% churned - cancelled & submitted downgrade:  50.0\n"
     ]
    }
   ],
   "source": [
    "churned_users2 = sparkify_valid.where((sparkify_valid['page']==\"Cancellation Confirmation\") | (sparkify_valid['page']==\"Submit Downgrade\")).select('userId').dropDuplicates().toPandas()\n",
    "\n",
    "sparkify_churn2 = sparkify_valid.withColumn(\"churn\", sparkify_valid.userId.isin(churned_users2['userId'].tolist()))\n",
    "\n",
    "pct_churned2 = np.round(100*sparkify_churn2.filter(sparkify_churn2['churn'] == True).count()/sparkify_churn2.count())\n",
    "\n",
    "print('% churned - cancelled & submitted downgrade: ',pct_churned2)"
   ]
  },
  {
   "cell_type": "markdown",
   "metadata": {},
   "source": [
    "While both definitions of churn would be interesting to look at, for this project I'll look at churning to mean only cancelling subscription. This is a less balanced problem, so will be something to keep in mind when we get to the modelling section."
   ]
  },
  {
   "cell_type": "markdown",
   "metadata": {},
   "source": [
    "from pyspark.sql import Window\n",
    "windowval = Window.partitionBy(\"userId\").orderBy(desc(\"ts\")).rangeBetween(Window.unboundedPreceding, 0)\n",
    "sparkify_churn = sparkify_churn.withColumn(\"phase\", Fsum(\"churn\").over(windowval))"
   ]
  },
  {
   "cell_type": "markdown",
   "metadata": {},
   "source": [
    "# 3. Feature Engineering<a class=\"anchor\" id=\"feature_eng\"></a>\n",
    "Once you've familiarized yourself with the data, build out the features you find promising to train your model on. To work with the full dataset, you can follow the following steps.\n",
    "- Write a script to extract the necessary features from the smaller subset of data\n",
    "- Ensure that your script is scalable, using the best practices discussed in Lesson 3\n",
    "- Try your script on the full data set, debugging your script if necessary\n",
    "\n",
    "If you are working in the classroom workspace, you can just extract features based on the small subset of data contained here. Be sure to transfer over this work to the larger dataset when you work on your Spark cluster."
   ]
  },
  {
   "cell_type": "markdown",
   "metadata": {},
   "source": [
    "Gaining some ideas from this article:\n",
    "\n",
    "https://www.altexsoft.com/blog/business/customer-churn-prediction-for-subscription-businesses-using-machine-learning-main-approaches-and-models/\n",
    "\n",
    "I started exploring the four main categories of features:\n",
    "\n",
    "    1) **user behavior** - level (paid/unpaid), # of account logins, active session length (per day?), active time/period of listening, pages used, actions (positive or negative)\n",
    "    2) **support interactions** - # of interactions with support pages (help, about, login, logout, settings, save settings, errors encountered)\n",
    "    3) **customer demographics** - eg. age, gender, education, income level, location\n",
    "    4) **contexual information** - eg. platform used (Mac, PC, Linux)\n",
    "\n",
    "I decided to focus mainly on the first three items: user behavior and support interactions, looking at the *page* column first to extract features of interest. Since we have information about the user's gender, that is an easy variable to look at as well.\n",
    "\n",
    "I first mentally split the page options into positive & negative interactions, and support-related interactions as follows:\n",
    "\n",
    "**positive**: add friend, add to playlist, thumbs up, upgrade\n",
    "**negative**: thumbs down, cancel, downgrade, and of course our features we want to predict are cancel confirmation and submit downgrade\n",
    "**support interaction**: about, help, login, logout, settings, save settings\n",
    "**other (neutral)**: next song, roll advert, error\n",
    "\n",
    "Some features to explore include:\n",
    "- number of negative actions (per session or per day) - thumbs down, cancel, downgrade\n",
    "- ratio of positive to negative actions?\n",
    "- interaction with support (about, help, login, logout, settings, save settings)\n",
    "- one hot endoding of pages\n",
    "\n",
    "Features from other variables (eg. song length, sessions, registration) to explore include:\n",
    "- number of songs/sessions and/or length of time spent on sparkify per day\n",
    "- amount of time registered\n",
    "- gender"
   ]
  },
  {
   "cell_type": "markdown",
   "metadata": {},
   "source": [
    "First let's take a look at the page column, since this contains a lot of information about user behavior. If we group by page and churn, we can take a look at which page options appear to have the largest effect on churn:"
   ]
  },
  {
   "cell_type": "code",
   "execution_count": 18,
   "metadata": {},
   "outputs": [
    {
     "data": {
      "text/html": [
       "<div>\n",
       "<style scoped>\n",
       "    .dataframe tbody tr th:only-of-type {\n",
       "        vertical-align: middle;\n",
       "    }\n",
       "\n",
       "    .dataframe tbody tr th {\n",
       "        vertical-align: top;\n",
       "    }\n",
       "\n",
       "    .dataframe thead th {\n",
       "        text-align: right;\n",
       "    }\n",
       "</style>\n",
       "<table border=\"1\" class=\"dataframe\">\n",
       "  <thead>\n",
       "    <tr style=\"text-align: right;\">\n",
       "      <th></th>\n",
       "      <th>page</th>\n",
       "      <th>churn</th>\n",
       "      <th>count</th>\n",
       "    </tr>\n",
       "  </thead>\n",
       "  <tbody>\n",
       "    <tr>\n",
       "      <th>0</th>\n",
       "      <td>Submit Downgrade</td>\n",
       "      <td>True</td>\n",
       "      <td>9</td>\n",
       "    </tr>\n",
       "    <tr>\n",
       "      <th>1</th>\n",
       "      <td>Error</td>\n",
       "      <td>True</td>\n",
       "      <td>32</td>\n",
       "    </tr>\n",
       "    <tr>\n",
       "      <th>2</th>\n",
       "      <td>Submit Upgrade</td>\n",
       "      <td>True</td>\n",
       "      <td>32</td>\n",
       "    </tr>\n",
       "    <tr>\n",
       "      <th>3</th>\n",
       "      <td>Cancellation Confirmation</td>\n",
       "      <td>True</td>\n",
       "      <td>52</td>\n",
       "    </tr>\n",
       "    <tr>\n",
       "      <th>4</th>\n",
       "      <td>Cancel</td>\n",
       "      <td>True</td>\n",
       "      <td>52</td>\n",
       "    </tr>\n",
       "    <tr>\n",
       "      <th>5</th>\n",
       "      <td>Submit Downgrade</td>\n",
       "      <td>False</td>\n",
       "      <td>54</td>\n",
       "    </tr>\n",
       "    <tr>\n",
       "      <th>6</th>\n",
       "      <td>About</td>\n",
       "      <td>True</td>\n",
       "      <td>56</td>\n",
       "    </tr>\n",
       "    <tr>\n",
       "      <th>7</th>\n",
       "      <td>Save Settings</td>\n",
       "      <td>True</td>\n",
       "      <td>58</td>\n",
       "    </tr>\n",
       "    <tr>\n",
       "      <th>8</th>\n",
       "      <td>Upgrade</td>\n",
       "      <td>True</td>\n",
       "      <td>112</td>\n",
       "    </tr>\n",
       "    <tr>\n",
       "      <th>9</th>\n",
       "      <td>Submit Upgrade</td>\n",
       "      <td>False</td>\n",
       "      <td>127</td>\n",
       "    </tr>\n",
       "    <tr>\n",
       "      <th>10</th>\n",
       "      <td>Error</td>\n",
       "      <td>False</td>\n",
       "      <td>220</td>\n",
       "    </tr>\n",
       "    <tr>\n",
       "      <th>11</th>\n",
       "      <td>Help</td>\n",
       "      <td>True</td>\n",
       "      <td>239</td>\n",
       "    </tr>\n",
       "    <tr>\n",
       "      <th>12</th>\n",
       "      <td>Save Settings</td>\n",
       "      <td>False</td>\n",
       "      <td>252</td>\n",
       "    </tr>\n",
       "    <tr>\n",
       "      <th>13</th>\n",
       "      <td>Settings</td>\n",
       "      <td>True</td>\n",
       "      <td>270</td>\n",
       "    </tr>\n",
       "    <tr>\n",
       "      <th>14</th>\n",
       "      <td>Downgrade</td>\n",
       "      <td>True</td>\n",
       "      <td>337</td>\n",
       "    </tr>\n",
       "    <tr>\n",
       "      <th>15</th>\n",
       "      <td>Upgrade</td>\n",
       "      <td>False</td>\n",
       "      <td>387</td>\n",
       "    </tr>\n",
       "    <tr>\n",
       "      <th>16</th>\n",
       "      <td>About</td>\n",
       "      <td>False</td>\n",
       "      <td>439</td>\n",
       "    </tr>\n",
       "    <tr>\n",
       "      <th>17</th>\n",
       "      <td>Thumbs Down</td>\n",
       "      <td>True</td>\n",
       "      <td>496</td>\n",
       "    </tr>\n",
       "    <tr>\n",
       "      <th>18</th>\n",
       "      <td>Logout</td>\n",
       "      <td>True</td>\n",
       "      <td>553</td>\n",
       "    </tr>\n",
       "    <tr>\n",
       "      <th>19</th>\n",
       "      <td>Add Friend</td>\n",
       "      <td>True</td>\n",
       "      <td>636</td>\n",
       "    </tr>\n",
       "    <tr>\n",
       "      <th>20</th>\n",
       "      <td>Roll Advert</td>\n",
       "      <td>True</td>\n",
       "      <td>967</td>\n",
       "    </tr>\n",
       "    <tr>\n",
       "      <th>21</th>\n",
       "      <td>Add to Playlist</td>\n",
       "      <td>True</td>\n",
       "      <td>1038</td>\n",
       "    </tr>\n",
       "    <tr>\n",
       "      <th>22</th>\n",
       "      <td>Help</td>\n",
       "      <td>False</td>\n",
       "      <td>1215</td>\n",
       "    </tr>\n",
       "    <tr>\n",
       "      <th>23</th>\n",
       "      <td>Settings</td>\n",
       "      <td>False</td>\n",
       "      <td>1244</td>\n",
       "    </tr>\n",
       "    <tr>\n",
       "      <th>24</th>\n",
       "      <td>Home</td>\n",
       "      <td>True</td>\n",
       "      <td>1672</td>\n",
       "    </tr>\n",
       "    <tr>\n",
       "      <th>25</th>\n",
       "      <td>Downgrade</td>\n",
       "      <td>False</td>\n",
       "      <td>1718</td>\n",
       "    </tr>\n",
       "    <tr>\n",
       "      <th>26</th>\n",
       "      <td>Thumbs Up</td>\n",
       "      <td>True</td>\n",
       "      <td>1859</td>\n",
       "    </tr>\n",
       "    <tr>\n",
       "      <th>27</th>\n",
       "      <td>Thumbs Down</td>\n",
       "      <td>False</td>\n",
       "      <td>2050</td>\n",
       "    </tr>\n",
       "    <tr>\n",
       "      <th>28</th>\n",
       "      <td>Logout</td>\n",
       "      <td>False</td>\n",
       "      <td>2673</td>\n",
       "    </tr>\n",
       "    <tr>\n",
       "      <th>29</th>\n",
       "      <td>Roll Advert</td>\n",
       "      <td>False</td>\n",
       "      <td>2966</td>\n",
       "    </tr>\n",
       "    <tr>\n",
       "      <th>30</th>\n",
       "      <td>Add Friend</td>\n",
       "      <td>False</td>\n",
       "      <td>3641</td>\n",
       "    </tr>\n",
       "    <tr>\n",
       "      <th>31</th>\n",
       "      <td>Add to Playlist</td>\n",
       "      <td>False</td>\n",
       "      <td>5488</td>\n",
       "    </tr>\n",
       "    <tr>\n",
       "      <th>32</th>\n",
       "      <td>Home</td>\n",
       "      <td>False</td>\n",
       "      <td>8410</td>\n",
       "    </tr>\n",
       "    <tr>\n",
       "      <th>33</th>\n",
       "      <td>Thumbs Up</td>\n",
       "      <td>False</td>\n",
       "      <td>10692</td>\n",
       "    </tr>\n",
       "    <tr>\n",
       "      <th>34</th>\n",
       "      <td>NextSong</td>\n",
       "      <td>True</td>\n",
       "      <td>36394</td>\n",
       "    </tr>\n",
       "    <tr>\n",
       "      <th>35</th>\n",
       "      <td>NextSong</td>\n",
       "      <td>False</td>\n",
       "      <td>191714</td>\n",
       "    </tr>\n",
       "  </tbody>\n",
       "</table>\n",
       "</div>"
      ],
      "text/plain": [
       "                         page  churn   count\n",
       "0            Submit Downgrade   True       9\n",
       "1                       Error   True      32\n",
       "2              Submit Upgrade   True      32\n",
       "3   Cancellation Confirmation   True      52\n",
       "4                      Cancel   True      52\n",
       "5            Submit Downgrade  False      54\n",
       "6                       About   True      56\n",
       "7               Save Settings   True      58\n",
       "8                     Upgrade   True     112\n",
       "9              Submit Upgrade  False     127\n",
       "10                      Error  False     220\n",
       "11                       Help   True     239\n",
       "12              Save Settings  False     252\n",
       "13                   Settings   True     270\n",
       "14                  Downgrade   True     337\n",
       "15                    Upgrade  False     387\n",
       "16                      About  False     439\n",
       "17                Thumbs Down   True     496\n",
       "18                     Logout   True     553\n",
       "19                 Add Friend   True     636\n",
       "20                Roll Advert   True     967\n",
       "21            Add to Playlist   True    1038\n",
       "22                       Help  False    1215\n",
       "23                   Settings  False    1244\n",
       "24                       Home   True    1672\n",
       "25                  Downgrade  False    1718\n",
       "26                  Thumbs Up   True    1859\n",
       "27                Thumbs Down  False    2050\n",
       "28                     Logout  False    2673\n",
       "29                Roll Advert  False    2966\n",
       "30                 Add Friend  False    3641\n",
       "31            Add to Playlist  False    5488\n",
       "32                       Home  False    8410\n",
       "33                  Thumbs Up  False   10692\n",
       "34                   NextSong   True   36394\n",
       "35                   NextSong  False  191714"
      ]
     },
     "execution_count": 18,
     "metadata": {},
     "output_type": "execute_result"
    }
   ],
   "source": [
    "page_df = sparkify_churn.select([\"page\",\"churn\"]).groupby([\"page\",\"churn\"]).count().sort(\"count\").toPandas()\n",
    "page_df"
   ]
  },
  {
   "cell_type": "markdown",
   "metadata": {},
   "source": [
    "A `seaborn` bar plot can help us visualize these differences:"
   ]
  },
  {
   "cell_type": "code",
   "execution_count": 19,
   "metadata": {
    "scrolled": true
   },
   "outputs": [
    {
     "data": {
      "image/png": "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\n",
      "text/plain": [
       "<matplotlib.figure.Figure at 0x7f35cb871c50>"
      ]
     },
     "metadata": {
      "needs_background": "light"
     },
     "output_type": "display_data"
    }
   ],
   "source": [
    "sns.barplot(x=\"count\",y=\"page\",hue=\"churn\",data=page_df);"
   ]
  },
  {
   "cell_type": "markdown",
   "metadata": {},
   "source": [
    "This graph gives us a good first glimpse of the relationship between churn and page , but it is a little hard to see what's going on with most of the variables since the *NextSong* column has so many data points relative to the rest. This option just means the user moved on to the next song (and should be high relative to the rest since it means the users in general are listening to songs more than anything else). Let's remove this to get a better sense of the other options. "
   ]
  },
  {
   "cell_type": "code",
   "execution_count": 20,
   "metadata": {},
   "outputs": [],
   "source": [
    "page_df.drop(page_df[page_df['page']=='NextSong'].index,inplace=True)"
   ]
  },
  {
   "cell_type": "code",
   "execution_count": 21,
   "metadata": {
    "scrolled": false
   },
   "outputs": [
    {
     "data": {
      "image/png": "iVBORw0KGgoAAAANSUhEUgAAAfcAAAEKCAYAAAAPeRzgAAAABHNCSVQICAgIfAhkiAAAAAlwSFlzAAALEgAACxIB0t1+/AAAADl0RVh0U29mdHdhcmUAbWF0cGxvdGxpYiB2ZXJzaW9uIDIuMS4wLCBodHRwOi8vbWF0cGxvdGxpYi5vcmcvpW3flQAAIABJREFUeJzt3Xm81VW9//HXGxxAcQLUzAk00hAJ4YgTKqaRleUQ1yFTyavl9ZppV/3Z9V7Dut40vU6pkZqh5YBDmkE5pKAgKjIPTqhgkWjiQGiACp/fH2tt2BzPsM9hn7MP+7yfj8d5nO937e+wvnufx/nstb7r+1mKCMzMzKx6dKh0BczMzKy8HNzNzMyqjIO7mZlZlXFwNzMzqzIO7mZmZlXGwd3MzKzKOLibmZlVGQd3MzOzKuPgbmZmVmXWq3QFrH3q3r179OjRo9LVMDNbp0yZMmVRRGzZ2HYO7lYRPXr0YPLkyZWuhpnZOkXSa6Vs5255q4jnF7zNgHNvrXQ1zMyqUtUHd0kXSJojaaak6ZL2amT74ZLOWYvznSbpxLw8TNKn69lupKR5kmZIeknSrZK2be55W5ukwZJGV7oeZmb2SVXdLS9pH+AwoH9ELJfUHdigJc8ZESOKVocBs4HX69n83Ii4R5KAs4CxkvpExIctWcf65HooIlZW4vxmZlYe1d5y3wZYFBHLASJiUUS8DiBpfg72SKqRNK5ov89LekzSXEmn5m0GS3pc0l25pX2JpOMlTZI0S9LOebvhks6RNBSoAW7LPQad66tkJFcCbwBfzsc5Lh93tqRLc9nRkq7Iy9+X9Gpe3lnShKLrukjS1Lz/rrl8S0mP5PJfSnpNUndJPSQ9L+l6YCqwvaRfSJqcezwuKtRT0qGSXsjnOqqofGNJN0t6VtI0SYc39wMzM7O1V+3B/WFSsHpJ0vWSDixxv77AV4F9gAuLutY/D3wf2B04AfhsRAwEbgK+V3yAiLgHmAwcHxH9ImJpCeedCuyaz3cp8AWgH7CnpCOAJ4D987b7A2/nrvxBwPii4yyKiP7AL4DCLYYfAY/l8vuAHYq23wW4NSL2iIjXgAsioia/DwdK6iupE3Aj8LV87k8V7X9BPvaewEHAZZI2rn1xkr6TvzRM7r7hSqZcdmIJb4mZmTVVVQf3iHgfGAB8B3gLGCVpWAm7/j4ilkbEImAsMDCXPxsRC3NPwCukLw8As4AeZaiy8u89gXER8VZEfAzcBhwQEW8AXSRtAmwP3A4cQAq2xcH9d/n3lKJ6DQLuBIiIB4F3i7Z/LSKeLlo/WtJUYBqwG9Ab2BWYFxFzIyKA3xZtPwQ4X9J0YBzQiTW/PJDPe0NE1EREzZZbNvokh5mZNVNV33MHiIgVpIAzTtIs4CRgJPAxq7/cdKq9Wz3ry4vKVhatr6Q87+UewKM0/KXrKeDbwIukgH4yqYfhP4q2KdRrRVG9RP0+KCxI6klq7e8ZEe9KGsnq96f2+7JqN+AbEfFiA+cwM7NWUtUtd0m7SOpVVNQPKDwjOJ/Uqgf4Rq1dD5fUSVI3YDDwbDOrsATYpIR6StKZpDECDwLPkLrDu0vqCBwHPJ43f4IUfJ8gtawPApZHxOJGTjMBODqfbwiwRT3bbUoK9oslbU0eAwC8APQsjC3IdSp4CPheHpCHpD0au2YzM2s5VR3cgS7ALZKekzST1L08PL92EXC1pPGkFm6xScAY4GngJ4VBeM0wEhjRwIC6yyTNAF4idcUfFBEfRsRC4IekWwIzgKkR8fu8z3hSl/wTuVfir6TA3ZiLgCG5u/3LwELSl481RMQM0peGOcDNwJO5fBnp9saYPKCuOJHCT4D1gZmSZud1MzOrEKXbp1btJG0IrIiIj/Mjgr+IiH6Vqk9NTU04Q52ZWdNImpIHPDeo6u+52yo7AHdJ6gB8CJxa4fqYmVkLcXBvJyJiLmnAnpmZVTkHd6uIhnLL+/l3M7O14+DejklaQXpGv+DOiLikUvUxM7PycHBv35Y2NqhOUsc8Kr+wvl5OrNOgUrczM7Pyc3C3T5A0n/QY3BDgWkmnAROB/YAHJN2TX9+SlPnv2xHxl5zw5h3Svf2prJlYx8zMWomDe/vWOaeMLfhpRIzKy8siYhCkaWyBzSPiwLz+B1Iu+lsknQxcAxyR9/sscEhxa79A0ndIz8qz7Wbr+966mVkLcXBv3xrqlh/VwPo+rJ4V7jfAz4peu7uuwA4ptzxwA0DfbTs7wYKZWQup9gx11nwfNLJerDhQN7SdmZm1Agd3a46JwLF5+XhKS39rZmatxN3y7Vvte+4PRsT5Jex3JnCzpHPJA+papHZmZtYsDu7tWER0rKe8R631wbXW5wNfqGO/YaWee4Ntdit1UzMzayJ3y5uZmVUZB3czM7Mq4255q4jaueX9zLuZWfm45d4ASRdImiNppqTpkvZqZPvhks5Zi/OdJunEvDxM0qfr2W6cpJqi9R6SZjf3vM0lab6k7q19XjMza5hb7vWQtA9wGNA/IpbnILZBS54zIkYUrQ4DZgOvt+Q5a3NOeDOzdZ9b7vXbBlgUEcsBImJRRLwOa7ZYJdVIGle03+clPSZprqRT8zaDJT0u6S5JL0m6RNLxkiZJmiVp57zdcEnnSBoK1AC35R6DzqVWOrf4fy/pQUkvSvpR0Wv/LekFSY9IuqPQy5B7Av5X0uPA9yV9TdIzkqZJ+rOkrfN23SQ9nMt/Cajo2N/K1zNd0i8l1TkS38zMWp6De/0eBrbPwfh6SQeWuF9f4KukFK0XFnWtfx74PrA7cALw2YgYCNwEfK/4ABFxDzAZOD4i+kXE0ibWfSApuUw/4F/yF5Aa4BukSV2OIn15KLZ5RBwYEf9HSkqzd0TsAdwJnJe3+REwIZc/AOwAIOlzwDHAfjmd7Yp8fjMzqwB3y9cjIt6XNADYHzgIGCXp/IgY2ciuv8/BeKmksaRA+x7wbEQsBJD0CunLA6T51A9qavUaKXskIt7O5/odMKhW3QqTvxQrzh2/Hel6tyHdipiXyw8g55SPiDGS3s3lBwMDgGclAXQG/l67gp44xsysdTi4NyBPgDIOGCdpFnASMBL4mNW9Hp1q71bP+vKispVF6ytp+ufwNrBF0XpXYFEjdWisl6Y4J/zPgSsi4gFJg4HhDRwbUvf8LRHxw4ZO4IljzMxah7vl6yFpF0m9ior6Aa/l5fmkliqkru5ih0vqJKkbMBh4tplVWAJsUs9r44BvKTeTSV86xha9/kVJXfO9+iOAJ0ld7V/LdetCunVQn82AvxUdu+AJcne7pC+z+gvGo8BQSVvl17pK2rHxSzQzs5bg4F6/LsAtkp6TNBPozeoW7EXA1ZLGk+4vF5sEjAGeBn5SGITXDCOBEfUMqLuBFPxnSJqR63p50esTSFOxTgfujYjJEfEs6T75DOB3pHv6i+s593Dg7nx9xT0CFwEHSJoKDAH+AhARzwH/BTyc36tHSAMSzcysAhTh3tFqImkYUBMRZ9TxWpc8lmAjUiv8OxExtbXrCFBTUxOTJ0+uxKnNzNZZkqZERO0B0Z/ge+7tyw2SepPGCdxSqcBuZmYty8G9yuTR/CPree2brVoZMzOrCN9zNzMzqzItFtwlfUrSnZJeyYPS/ijpsy11vlrnfj//bjTnet7mm0XrNZKuKVM9uuRsba8o5ah/Qo3kp2/gWLvmwXXTJO0saWI56ljHefpJ+krR+tclnd8S5zIzs5bRIsE9P6J1HzAuInaOiN7AfwJbt8T51lIPYFVwzyPLzyzTsW8C3gF6RcRupHzxzZ1o5QhSEpo9IuKViNi39gZlSvnaD1gV3CPigYi4pAzHNTOzVtJSLfeDgI+KJ0KJiOkRMT63Zh+VNDXnVT8cVrWgn5d0Y27lPlx4BEzSZ3KO8xl5v0Iu9nMlPas0a9tFDVUoH3983n+qpEJwvATYP7eKz1bKAz8679NV0v35+E9L6pvLh0u6WSkn+6uSPvFlINdxL+C/ImJlfg9ejYgx+fUfSJqdf85q6D3ILemzgFNy1rvi3onBksZKuh2YlY/xgqSb8rFvk3SIpCeV8t0PzPsNlDQx9wRMVHqufwPgx8Ax+f04RilX/bV5nx3zZzcz/y6knx0p6Zp8nFeVcuObmVmFtFRw7wNMqee1ZcCREdGf9CXg/3JLH6AXcF1u5b7H6gQxt+XyzwP7AgslDcnbDyS1NgdIOqCBOv0d+GI+7zFAoev9fGB8zuF+Za19LgKmRURfUs/DrUWv7Qp8KZ//R5LWr7XvbsD0nOVuDUppbb9NCv57A6dK2qO+9yAi/giMAK6MiLpS1Q4ELsg9JACfAa4m5bnfldQzMQg4J18HwAvAATlP/IXA/0bEh3l5VH4/ilPSAlwL3Jrfj9tY/R5Ceq59EGkmPbf0zcwqqBKj5QX8bw7EK4FtWd1dPy8ipuflKUAPSZsA20bEfQARsQwgB/chwLS8fRdSYHyinvOuD1wrqTCxSSn3/weRv2BExGNKs6Jtll8bk2eMWy7p7/kaFpRwzMJx74uID/K1/I6Uw/4B6ngPSjjepIiYV7Q+LyJm5WPPAR6NiFBKoVs43makJD29SClla385qcs+5NzypCQ5Pyt67f7cQ/Gc8ixytalWbvm//Hh3drhwVgmnNTOzpmip4D4HqK9r9nhgS2BARHwkaT6r87MX519fQZqARNRNwE8j4pcl1uls4E3S7GwdSD0Ijanr3HXlil/BJ9/LOaTpXzsUuuUbOW5BXe9BYz6otV5KHvufAGMj4khJPUgpbZuqOANS8TnrvD7nljczax0t1S3/GLCh8nzmAJL2VJo2dTPg7zmwHwQ0mIM8Iv4BLJB0RD7OhkoZ1h4CTlbKk46kbZVzm9djM2BhDrQnAIXBZw3lcC/OpT6YNL/7Pxqqb1G9XyGleL2ocNtBUq88xuAJ4AhJG0naGDgSGF/KccuoOH/8sKLyht6PicCxefl4UppbMzNrY1okuEfKaXskaQKTV3LX8HDgddK92hpJk0kB4oUSDnkCcKZS3vKJwKci4mHgduCp3N18D/UHJYDrgZMkPU3qki+0dmcCH+fBemfX2md4rutM0n3kk2iaU4BPAS/nOt4IvJ4zw40k5aF/BrgpIqbVe5SW8TPgp5KeZPUXHUgT0PQuDKirtc+ZwLfz+3ECaX56MzNrY5xb3irCueXNzJpOJeaWd4Y6MzOzKuPgbmZmVmUc3M3MzKqMg3sVU4Xy+xey55mZWWU4uFep/PjdupLf38zMysjBvXrVmd8fmKYK5PY3M7PW4+BeverL71+p3P5mZtZKHNzbn0Ju/5nAn2lGbv+I+Ccpr38ht/9U0gQ1vRo8sfQdSZMlTX7j5Zn85ce7l/vazMyMykwcY62jvvz+lcrt79zyZmatxC336lVnfn9SLv9K5PY3M7NW4uBepRrI7/9HKpPb38zMWolzy1tF9N22c4z+7mc8n7uZWRM4t7y1aRtss5sDu5lZC3FwNzMzqzIeLW8V8fyCtxlw7q1N2mfKZSe2UG3MzKqLW+7tjKQjJYWkXfP6YEmjy3TsIyT1LsexzMys+Rzc25/jgAnAsS1w7CMAB3czswpzcG9H8jPp+wH/yprBfVNJ9+WZ40ZI6pC3Py7nn58t6dKi47xftDxU0khJ+wJfBy6TNL2Qf97MzFqf77m3L0cAD0bES5LekdQ/lw8ktbhfAx4EjpI0EbgUGAC8Czws6YiIuL+uA0fEREkPAKMj4p4WvxIzM6uXg3v7chxwVV6+M6+PASZFxKsAku4ABgEfkaaLfSuX3wYcANQZ3Esh6TvAdwC23Wx97tvkMj8OZ2bWAhzc2wlJ3YAvAH0kBdARCFLGutqZjIL6c8oXXi/oVO9WtXdybnkzs1bhe+7tx1Dg1ojYMSJ6RMT2wDxSK32gpJ75XvsxpAF3zwAHSuouqSOplf94Ptabkj6Xtz+y6BxLcApaM7OKc3BvP44D7qtVdi/wTeAp4BJgNing3xcRC4EfAmOBGcDUiPh93u98YDRpcpqFRce7EzhX0jQPqDMzqxznlreKcG55M7Omc255a9OcW97MrOU4uJuZmVUZj5a3imgst7zzyJuZNZ9b7mUm6QJJcyTNzJna9mrBc+0iaVw+z/OSbmhk+x6Svlm03k/SV4rWvy7p/Jaqr5mZtQ633MtI0j7AYUD/iFguqTuwQQue8hrgysIodkm7N7J9D9Lo+Nvzej+ghvSsOxHxAPBAi9TUzMxajVvu5bUNsCgilgNExKKIeB1A0oWSns152m9Q8jlJkwo755b1zLw8QNLjkqZIekjSNvWcb0FhJSJm5X07Srosn2+mpO/mTS4B9s8t/f8H/Bg4Jq8fI2mYpGvzMUZKukbSREmvShqayztIuj73ToyW9Mei1y7J+elnSrq8rO+smZmVzMG9vB4Gtpf0Ug6ABxa9dm1E7BkRfYDOwGER8TywgaSd8jbHAHdJWh/4OTA0IgYANwMX13G+K4HHJP1J0tmSNs/l/wosjog9gT2BUyX1JD2fPj4i+kXEpcCFwKi8PqqO429DSnJzGOmLAcBRpB6A3YFTgH0AJHUlJbTZLSL6Av9T+ttmZmbl5G75MoqI9yUNAPYHDgJGSTo/IkYCB0k6D9gI6ArMAf4A3AUcTQqex+SfXYA+wCOSIKWKXUgtEfFrSQ8BhwKHA9+V9HlgCNC30KIGNgN6AR828ZLuj4iVwHOSts5lg4C7c/kbksbm8n8Ay4CbJI0hJblZg3PLm5m1Dgf3MouIFcA4YJykWcBJku4ErgdqIuKvkoazOif7KOBuSb9Lu8fcfO98TkTsU8L5Xie17G+WNJv0pUDA9yLioeJtJQ1u4uUsL9691u/a9fhY0kDgYNJ0smeQctkXb+Pc8mZmrcDd8mWUR6/3KirqR5pGtRDIFynNqV5oURMRrwArgP8mBXqAF4Et8wA9JK0vabc6zndo7sJH0qeAbsDfgIeAfyt67bOSNuaTud+bkwt+AvCNfO99a2BwPkcXYLOI+CNwVr52MzOrALfcy6sL8PN87/tj4GXgOxHxnqQbgVnAfODZWvuNAi4DegJExIe5S/0aSZuRPqerSF35xYYAV0taltfPjYg3JN1Eui8+Valf/y3SXO4zgY8lzQBGArcA50uaDvy0xGu8l9Q6nw28RJpgZjHpS8LvJXUite7PLvF4ZmZWZs4tb00mqUseX9ANmATsFxFvNOUYzi1vZtZ0peaWd8vdmmN07p3YAPhJUwM7FHLLTy5/zczMzMHdmi4iBle6DmbWfnz00UcsWLCAZcuWNb5xlejUqRPbbbcd66+/frP2d3C3imgst3xtzjVv1n4tWLCATTbZhB49epAfD65qEcHbb7/NggUL6NmzZ7OO4dHy66CcyW52rbLhks5pxToMlvSJZ9nNzMpt2bJldOvWrV0EdgBJdOvWba16KhzcbZWcEtd/E2bW5rSXwF6wttfrf+RVRmmWuKtyTvjZObEMkraU9IikqZJ+Kek1Sd1zL8Dzkq4HppLS5/5C0uScP/6iomMfKukFSRNIaWgL5RtLujnnsp8m6fBWv3AzsyYaNmwY99xzT6Wr0SIc3KvTxhGxL3A6KXsdwI+AxyKiP3AfsEPR9rsAt0bEHhHxGnBBftSiL3CgpL75+fUbga+R0ut+qmj/C/Kx9ySl3b0sJ80xM6taK1asqHQV6uUBdeum+pITFMrvAIiIJyRtmh9bG0Sa2IWIeFDSu0X7vRYRTxetH53zwK9HmjymN+mL4LyImAsg6bfkPPGkZDpfL7rn34n05eH54srVlVse8LPuZtYqbr31Vi6//HIk0bdvXzp27MgTTzzBFVdcwRtvvMHPfvYzhg4dyrhx47j88ssZPToNKzrjjDOoqalh2LBh9OjRg5NPPpmHH36YM844gxEjRrDXXnsxduxY3nvvPX71q1+x//77V/hK3XJfV70NbFGrrCuwKC/XDv5BPTnhsw8KC3n2uHOAg/PsbmNYnT63vi8VAr6RZ5frFxE75Bnv1qxExA0RURMRNV037thAdczMymvOnDlcfPHFPPbYY8yYMYOrr74agIULFzJhwgRGjx7N+eefX9KxOnXqxIQJEzj22GMB+Pjjj5k0aRJXXXUVF110USN7tw4H93VQRLwPLJR0MKyabvVQUt53SDPLIWkQaerXxfm1o3P5ED755aBgU1KwX5xzx385l78A9JS0c14/rmifh4Dv5VS3SNpjrS/SzKyMHnvsMYYOHUr37t0B6Nq1KwBHHHEEHTp0oHfv3rz55pslHeuYY45ZY/2oo9IQpAEDBjB//vzyVXotuFt+3XUicJ2k/8vrF0XEKzm+vitpIilQn1x4HbhD0jHA46QpZJeQ8uGvEhEzJE0j5bF/FXgyly/L3epjJC0ifVnok3f7CSn3/cwc4OeT5oA3M2sTIqLOEegbbrjhGtsArLfeeqxcuXJVee1H0jbeeM0hRYVjdOzYkY8//rhsdV4bDu7rqIh4jjR4rS73RsQPa5UtBr6Up2bdBzgoIpaTAnGf4g0jYlg953wQ2LWO8qXAd5t0AWZmrejggw/myCOP5Oyzz6Zbt26888479W6744478txzz7F8+XKWLVvGo48+yqBBg1qxtmvPwb392AG4Kz/H/iFwaiUr49zyZtaadtttNy644AIOPPBAOnbsyB571H/3cPvtt+foo4+mb9++9OrVq8Ft2yrPCmcVUVNTE5MnO7ibWeOef/55Pve5z1W6Gq2uruv2rHDWpjU1t3xLc+56M6smJY+Wl7SjpEPycmdJm7Rctaw1SXq/1vowSdc2sk+j25iZWWWUFNwlnQrcA/wyF20H3N9SlTIzM7PmK7Xl/u/AfsA/AHKWsq1aqlLWduSc9PfmvPHPStqvjm1GShohabyklyT5MTgzswoq9Z778oj4sPCMoKT1qD9bma17OkuaXrTeFXggL18NXBkREyTtQEpYU9fIlh7AgcDOwFhJn4mI5s9XaGZmzVZqcH9c0n+SgsAXSROS/KHlqmWtbGlE9CusSBoGFEZjHgL0Lkr+sGk94y3uioiVwFxJr5Kehy/+wlBvbvnanGvezGztlNotfz7wFjCLlKzkj8B/tVSlrE3pAOxTlDd+24hYUsd2deWzX7PAueXNbB3VsWNH+vXrt+qnoTSz8+fPp0+fPvW+3hpKarnnFtmN+cfal4eBM4DLACT1i4jpdWz3L5JuAXoCOwEvtl4Vzaw9KfdjtKU8Ctu5c2emT6/rX1/bVOpo+VmSZtb6GS/pSkndWrqSVlFnAjX5M38OOK2e7V4k5az/E3Ca77ebWbWbP38++++/P/3796d///5MnDjxE9vMmTOHgQMH0q9fP/r27cvcuXMB+O1vf7uq/Lvf/W7Z54Yv9Z77n4AVwO15/dj8+x/ASOBrZa2VtaqIqD15zEjS50pELCLPMlffNtmTEXF2S9XRzKySli5dSr9+aWhSz549ue+++9hqq6145JFH6NSpE3PnzuW4446jdubNESNG8P3vf5/jjz+eDz/8kBUrVvD8888zatQonnzySdZff31OP/10brvtNk48sXzJtEoN7vtFRPEjULMkPRkR+0n6VtlqY+2Gc8ub2bqkrm75jz76iDPOOIPp06fTsWNHXnrppU/st88++3DxxRezYMECjjrqKHr16sWjjz7KlClT2HPPPYH0xWGrrcr7dHmpwb2LpL0i4hkASQNZPVVo25jfziqmvlnkzMyq2ZVXXsnWW2/NjBkzWLlyJZ06dfrENt/85jfZa6+9GDNmDF/60pe46aabiAhOOukkfvrTn7ZY3UoN7qcAN0vqAojUHX+KpI2BlqudVa22llsenF/ezJpm8eLFbLfddnTo0IFbbrmlzvvmr776KjvttBNnnnkmr776KjNnzmTIkCEcfvjhnH322Wy11Va88847LFmyhB133LFsdStpQF1EPBsRuwP9gH4R0TciJkXEBxFxV9lqY00m6QJJc/KAt+mS9mpg22GSPl20fpakjYrW/yhp85aus5lZNTj99NO55ZZb2HvvvXnppZfYeOONP7HNqFGj6NOnD/369eOFF17gxBNPpHfv3vzP//wPQ4YMoW/fvnzxi19k4cKFZa1byVO+SvoqsBuwqt8hIn5c1tpYk0jaB7gCGBwRyyV1BzaIiNfr2X4ccE5ETM7r84GaPGiuVW38qZ6x6wkXtfZpG+SWu1nb5ClfVyt1ytdSH4UbQRox/T1St/y/AOXrP7Dm2gZYFBHLIY1sj4jXJQ2Q9LikKZIekrSNpKGkrHO35Rb+94FPk1LFjoUU7CV1l9RD0vOSbsy9Ag9L6py32TP3Ejwl6TJJs3P5bpIm5WPPlNSrIu+ImZmVnKFu34g4EXg3Ii4C9gG2b7lqWYkeBrbPk7VcL+lASesDPweGRsQA4Gbg4oi4B5gMHJ8zzV0NvA4cFBEH1XHsXsB1EbEb8B7wjVz+a9Jz7PuQHo8sOA24OqexrQEWlP9yzcysFKUOqFuaf/8z37N9m5SJzCooIt6XNADYHzgIGAX8D9AHeCTng+8INOdmzryiTHRTgB75fvwmEVHI1HA7UJgB7ingAknbAb/LMweuodTc8uD88mZma6PU4D46/2P/GekfPcBNLVMla4qIWAGMA8ZJmkWanndOblmvjeVFyyuAzqRbMvXV43ZJzwBfBR6SdEpEPFZrmxuAGwD6btvZswqambWQUrvlLwdOBk4gtdB+BlzcUpWy0kjapda97X7A88CWebAdktaXtFt+fQlQPKNb7fUGRcS7wBJJe+eiQqZCJO0EvBoR15Cmi+3b1OsxM7PyKDW430IaKX8N6X7u54C29ZBy+9QFuEXSc5JmAr2BC4GhwKWSZpCmXd03bz8SGJEHvXUmtaL/VBhQV6J/BW6Q9BSpJb84lx8DzM7zwu+K/z7MzCqm1G75XSLi80XrY3PgsAqKiCmsDtzFFgEH1LH9vcC9RUU/zz+F13sU7d+nqPzyon3mRERfAEnnkwbpERE/xQmNzKwKvf322xx88MEAvPHGG3Ts2JEtt9wSgEmTJrHBBhtUsnp1KjW4T5O0d0Q8DZATpTzZctWyNuyrkn5I+tt5DRjWnIM4t7yZNddffrx7WY/X2ADebt26rcorP3z4cLp06cJe86eCAAAaKElEQVQ555yzxjYRQUTQoUOpHeItq9Ra7AVMzM9Bzyfddz+wMBVsi9XO2pyIGJUfpesTEV+NiLcqXSczs0p4+eWX6dOnD6eddhr9+/fnr3/9K5tvvjrJ55133skpp5wCwJtvvslRRx1FTU0NAwcO5Omnn27RupXacj+0RWth7U5bzC3fXM5sZ9Z+Pffcc/z6179mxIgRfPxx/fOonXnmmZx33nnsvffezJ8/n8MOO4zZs2e3WL1KCu4R8VqL1cDMzGwdtfPOO6+aurUhf/7zn3nxxRdXrb/77rssXbqUzp07t0i9Sm25WwuQtAKYBaxPmjr3FuCqiFhZ0YqVSNJIYHTOfmdm1u4UTxbToUMHiudrWbZs2arliGjVwXdt485/+7U037/eDfgi8BXgR5WskCR/4TMza4YOHTqwxRZbMHfuXFauXMl999236rVDDjmE6667btV6YYBei9WlRY9uJYuIv5NSs56hpJOkX+dBi9MkHQSrpmUtPIo2TdKFefknkk6RNFjSOEn3SHpB0m3KeWglfSWXTZB0jaTRuXy4pBskPQzcmieOGS9pav7ZN28nSdfm5+rHAFsV6l/XZDWt+f6ZmbUFl156KYceeigHH3ww22233ary6667jieffJK+ffvSu3dvbrzxxhatR8lTvlr5SXo/IrrUKnuXlATmW0CfiPi2pF1Jk8R8FjiLlFnuN8CjwDsR8aWciOY00kxxvyclHXqd9MjiuaTn0ecCB0TEPEl3kPLEHyZpOPA1YFBELFWa431lRCzLGfDuiIgaSUcB/0YaYLk18BxwSj7f48DhEfGWpGOAL0XEybWurTi3/ICJP9il0ffIOebNzFO+rqYSp3x1F2zbU8jfPoicYCYiXpD0Gim4jwfOBOYBY4Av5mDcIyJezC3mSRGxACBnjOsBvE9KDzsvH/8OcqDNHoiIwgRB6wPXSupHyiv/2Vx+ACnQrwBel1TIHb8LJUxW49zyZmatw8G9Dcn52VcAf6f+SVqeJU2p+irwCNAdOJXVE/rAJyd9Wa+B4xV8ULR8NvAm8HnSrZtlRa/VFZRFeSarMTOzMvA99zZC0pbACODaSPdKngCOz699FtgBeDEiPgT+ChwNPE1qyZ+TfzfkBWAnST3y+jENbLsZsDCP2j+B1BIn1+lYSR1zD0FhHvgXqX+yGjMza2VuuVdW59xtXngU7jfAFfm160mTvMzKrw2LiEKLfDxwcET8U9J4YDsaCe75XvrpwIOSFgGTGtj8euBeSf8CjGV1q/4+4Aukx/deIt1nJyI+lDQUuEbSZqS/q6uAOSW+D2ZmDYoI8m2/dmFtx8N5QF07IqlLRLyfR89fB8yNiCsrUZeampqYPNm55c2scfPmzWOTTTahW7du7SLARwRvv/02S5YsoWfPnmu85gF1VpdTJZ0EbABMA35Z4fqYmTVqu+22Y8GCBbz1VvuZyqJTp05rPErXVG65W0Vs/KmesesJF1W6Gq3KOejNbG2V2nL3gDozM7Mq4+C+liR1kzQ9/7wh6W95+T1Jz7XQOcdJavSbWz37rsj1myNphqQfSPLfgZlZFfE997UUEW8D/SClcQXej4jL8yNnoytXs3otjYhCfbcCbic9+lbRnPZmZlY+brG1rI6Sbsyt5IcldYY1W96Sukuan5eHSbpf0h8kzZN0Rm5ZT5P0tKSuRcf+lqSJkmZLGpj3P7CoF2GapE0aqlxr5LM3M7PW55Z7y+oFHBcRp0q6C/gG8NtG9ukD7AF0Al4G/l9E7CHpSuBE0vPjABtHxL6SDgBuzvudA/x7RDwpqQtrZparU0S8mrvltyLlsycidi/ks88JdJ4A9s9fQj4G9su7D8rXs02uc3E++/2ACcXnqpVbnvs2uayx6tXJ+ebNzBrmlnvLmhcRhXn9ppByvDdmbEQsiYi3gMXAH3L5rFr73wEQEU8Am0ranBRUr5B0JrB5RHxcYj2L89n/Jh/3BaA4n/0B+fUxQJfifPZ530kRsSBntSvks19DRNwQETURUdN14461XzYzszJxcG9ZdeV4h9T6Lbz3nRrYZ2XR+krW7Gmp/QxjRMQlpFnaOgNP59Z3g5qYz35/Uit+GqXlszczswpwcK+M+cCAvDy0mcc4BkDSIGBxRCyWtHNEzIqIS0lTvDYY3Fshn72ZmVWAW1eVcTlwl6QTgMca27ge70qaCGwKFOZNPysPgltBmmv9T3Xs12r57M3MrDKcoc4qwrnlzcyazhnqzMzM2ikHdzMzsyrje+5WEc8veJsB595a6WqsszwJjZk1xC33KiXp/Qqd96z8DLyZmVWIg7uV21mAg7uZWQU5uLcjknaU9Kikmfn3Drl855y7/llJPy60+nO++cty/vpZkgrP1g+WNLrouNfmvPhnAp8GxkoaW4lrNDMz33Nvb64Fbo2IWySdDFwDHAFcDVwdEXdIOq1o+6NIM959HugOPCvpifoOHhHXSPoBcFBELKr9erlyyxc4x7yZWd3ccm9f9iFN8Qopec2govK78/LtRdsPAu6IiBUR8SbwOLBnc0/u3PJmZq3Dwb19ayyDUX255otz48Mn8+ObmVkFObi3LxOBY/Py8ayekvVp0nS0FL0OKdf8MZI65jz0BwCTSLPF9Za0oaTNgIOL9lkCNDiPvJmZtSzfc69eG0laULR+BXAmcLOkc4G3gG/n184CfivpP0hTui7O5feRuuxnkFr550XEGwB5fvqZwFzSLHEFNwB/krQwIg5qkSszM7MGObe8kZ9LXxoRIelY4LiIOLwlz+nc8mZmTVdqbnm33A3S9LPXShLwHqtnmTMzs3WQg7sREeNJj7uZmVkVcHC3inBu+XWP89mbrTs8Wr4NkXSkpJC0awPbjJQ0tI7yNbLG1SpfLGl6/vlzPcf9uqTz1+4KVh1ruKRzynEsMzNrOrfc25bjSI+nHQsML+Nxx0fEYfW9KGm9iHgAeKCM5zQzswpxcG8jJHUB9gMOIgXZ4blcwM+BLwDzKEosI+lQ4CpgETC1iecbCbwD7AFMlTQLqImIM/Iz7SOAHfLmZ0XEk5KG57Kd8u+rIuKafLwLgBOBv5Ies5vSpDfAzMzKxsG97TgCeDAiXpL0jqT+ETEVOBLYBdgd2Bp4jvSseifgRlLQfxkY1cCx95c0PS/fHREX5+XPAodExApJw4q2vxq4MiIm5MllHgI+l1/blfQFZBPgRUm/APqSehv2IP1NTaWO4F7u3PIFzjFvZrYmB/e24zhSKxzgzrw+lZQV7o6IWAG8LumxvM2uwLyImAsg6bfkwFmH+rrl787Hre0QUga6wvqmkgpZ58ZExHJguaS/k75w7A/cFxH/zHWps3s/Im4gJbmh77adnWDBzKyFOLi3AZK6kVrgfSQF0BEISeflTeoLhGsbID+op7wDsE9ELK1VT4DlRUUrWP035GBtZtZGeLR82zCUNBXrjhHRIyK2J91fH0TK735szu++DalLHOAFoKeknfP6cWWsz8PAGYUVSf0a2f4J4EhJnXML/2tlrIuZmTWRg3vbcBwpj3uxe4Fv5vK5wCzgF6RpV4mIZaRu+DGSJpAmcymXM4EaSTMlPQec1tDGeWzAKGB6rvf4MtbFzMyayLnlrSKcW97MrOlKzS3vlruZmVmVcXA3MzOrMh4tbxXh3PItz7ngzdovt9zbAEkrct732ZL+IGnzRrbvIWl2Xq4zp3zRtldL+pukej9rSfMldW/+FaxxrP8sx3HMzKz5HNzbhqUR0S8i+pBSwv57OQ6aA/qRpJSwB5TjmA2cS/l8Du5mZhXm4N72PAVsC6sC5mW5RT9L0jFNPNZBwGzSI3SrnoOX1E3Sw5KmSfolOV+9pEslnV603XBJ/5GXz5X0bH487qJc1kPS85KuJ2XT+xXQOfdC3Nbsd8DMzNaKg3sbIqkjcDCrZ2c7CugHfJ6UEvaynMimVMcBd5CelT9M0vq5/EfAhIjYI5+rMEHMnUDxF4ijgbslDQF6AQNzfQZIKvQE7EJKwLNHRHyb1b0QxzehnmZmVkYeUNc2dM4Tu/QgTbjySC4fxOq88m9KehzYE5jZ2AElbQB8BTg7IpZIegYYAowhddEfBRARYyS9m5enSdpK0qeBLYF3I+Ivks7M+07Lh+9CCvZ/AV6LiKdLuciWmjimVJ5gxszaCwf3tmFpRPSTtBkwmnTP/RqKpndthkOBzYBZOSf8RsA/ScEd6s8Ffw8pHe6nSC15cj1+GhG/LN5QUg/qz0//CZ44xsysdbhbvg2JiMWk1K/n5C70J4Bjcl75LUkt7kklHu444JScq74H0BMYImmjfNzjASR9GdiiaL87SdO3DiUFekhTvp6c55xH0raStqrnvB8Vdf+bmVkFOLi3MRExDZhBCrD3kbrgZwCPAedFxBuNHSMH8C+xupVORHwATCBN6nIRcICkqaTu9r8UbTeHNFf73yJiYS57GLgdeErSLFLQL0wBW9sNwEwPqDMzqxznlreKcG55M7Omc255MzOzdsrB3czMrMp4tLxVhHPLW1viPPxWbdxyLxNJR0oKSbs2sM1ISUPrKK8zP7ykfpK+0sR6DJa0OGefe17Sjxo6R4nHHCbp2rx8mqR6/xPm8+zbnPOYmVl5OLiXz3Gk0ejHlvGY/UiJaJpqfM4+VwN8S9KAclUoIkZERENN7sGAg7uZWQU5uJdBfv57P+BfKQruOTf8tZKekzQG2KrotUMlvSBpAjlbXK1jbgD8mPSc+3RJx0jqKun+nN/9aUl9G6pXfvxtCrBzrWMPlDQxt+4nStoll4+X1K9ouydrnyPnmz8nL5+Zr22mpDtzUpvTgLNznfcv4e0zM7Myc3AvjyOAByPiJeAdSf1z+ZGk3Ou7A6eSW7SSOgE3kp4535+UDW4NEfEhcCEwKudqH0V6Pn1aRPQlzb7W4E1rSd2AvYE5tV56ATggt+4vBP43l98EDMv7fhbYMCIaSnV7PrBHrs9pETEfGAFcmes8vqH6mZlZy/CAuvI4DrgqL9+Z16eSMsoVcsO/LumxvM2uwLyImAsg6bfknOuNGAR8AyAiHsuzu22WM9sV21/SNGAlcElEzJE0uOj1zYBbJPUipaEtZJS7G/hvSecCJwMjG6nPTOA2SfcD9zdW+Urnli9wjnkzq3YO7mspt46/APSRFEBHICSdlzepL0tQc7IH1ZVrvq7jjI+Iwxo4zk+AsRFxZO5KHwcQEf+U9AhwOGlGuMYSJXyV9AXm66QvBbs1tLFzy5uZtQ53y6+9oaQpT3fMedy3B+aRWtlPAMfm3PDbkOZXh9Qt3lNS4V74cZ84arKENdO8FueEHwwsioh/NKPOmwF/y8vDar12E2nSmmcj4p36DiCpA7B9RIwFzgM2J80WV7vOZmbWyhzc195xpBzwxe4FvpnL5wKzgF8AjwNExDJS9/SYPKDutXqOPRboXRhQBwwHaiTNBC4BTmpmnX8G/FTSk6SehlUiYgrwD+DXjRyjI/DbnGt+Guk++3vAH4AjPaDOzKxynFve1pDnch8H7BoRK1vqPM4tb2bWdM4tb02Wk9M8A1zQkoHdzMxalgfU2So5OY1zwpqZreMc3K0inFverH1w3v7KcLd8OyLp/Vrrq3LGm5lZ9XBwNzMzqzIO7gaApB0lPZrzxD8qaYdcPlLSLySNlfSqpAMl3ZxnnBtZtP8QSU9Jmirp7pxv38zMKsDBvX3pnJ8/ny5pOmlimoJrScl4+gK3kRLZFGxBysJ3Nuk59iuB3YDd87S03YH/Ag6JiP7AZOAHLX85ZmZWFw+oa1+WRkTxrG/DWJ1idh9Wz073G1Kim4I/RETkhDVvRsSsvP8coAewHdAbeFISwAbAU7VP3lZyy5eT89SbWVvk4G71Kc5utDz/Xlm0XFhfD1gBPBIR9aXRTQd0bnkzs1bhbnkrmMjqueiPByY0Yd+ngf0kfQZA0kZ5ylgzM6sAB3crOBP4ds5bfwLw/VJ3jIi3SBPQ3JH3f5o0ra2ZmVWAc8tbRfTdtnOM/u5nKl2NteZ77mbWmkrNLe977lYRG2yzGztc6IljzMxagrvlzczMqoxb7lYRzi1vZu1Ra+Xad8u9QiR1K0oo84akv+Xl9yQ910LnHCep0Xs1dezXQ9LsWmXDJZ1TvtqZmVm5OLhXSES8HRH9clKZEcCVebkf6flxMzOzZnFwb5s6SrpR0hxJD0vqDGu2vCV1lzQ/Lw+TdL+kP0iaJ+kMST+QNE3S05K6Fh37W5ImSpotaWDe/8CiXoRpkjZpSmVzva6qfVwzM6sMB/e2qRdwXUTsBrwHfKOEffoA3wQGAhcD/4yIPUhpYItv8mwcEfsCpwM357JzgH/PPQf7A0ubUee6jmtmZhXgAXVt07yImJ6Xp5DytzdmbEQsAZZIWkya4AVgFtC3aLs7ACLiCUmbStoceBK4QtJtwO8iYkGtY9eXDKG4/BPHjYj3ijeuxtzy9fHz72ZWSW65t03F+dtXsPpL2Mes/sw6NbBPcQ74Qv73gtqBOiLiEuAUoDPwtKTa2eXeJs0MV6wrsKih41K7IOKGiKiJiJquG3es/bKZmZWJg/u6ZT4wIC8PbeYxjgGQNAhYHBGLJe0cEbMi4lLSdK1rBPeIeB9YKOngvG9X4FDWzD//ieM2s35mZraW3C2/brkcuEvSCcBjzTzGu5ImApsCJ+eysyQdROoleA74Ux37nQhcJ+n/8vpFEfFKI8c1M7MKcG55W2uSxgHnRETJ+WSrJbd8fXzP3cxagnPLW5vm3PJmZi3HLXerCElLgBcrXY9W1J01ByBWs/Z0reDrrWZt8Vp3jIgtG9vILXerlBdL6VqqFpImt5frbU/XCr7earYuX6tHy5uZmVUZB3czM7Mq4+BulXJDpSvQytrT9banawVfbzVbZ6/VA+rMzMyqjFvuZmZmVcbB3VqdpEMlvSjpZUnnV7o+zSFpe0ljJT2fp+b9fi7vKukRSXPz7y1yuSRdk695pqT+Rcc6KW8/V9JJlbqmxkjqmKcEHp3Xe0p6Jtd7lKQNcvmGef3l/HqPomP8MJe/KOlLlbmSxknaXNI9kl7In/E+Vf7Znp3/jmdLukNSp2r6fCXdLOnvkmYXlZXt85Q0QNKsvM81ktS6V1iHiPCPf1rtB+gIvALsBGwAzAB6V7pezbiObYD+eXkT4CWgN/Az4Pxcfj5waV7+Cimtr4C9gWdyeVfg1fx7i7y8RaWvr55r/gFwOzA6r98FHJuXRwD/lpdPB0bk5WOBUXm5d/68NwR65r+DjpW+rnqu9RbglLy8AbB5tX62wLbAPKBz0ec6rJo+X+AAoD8wu6isbJ8nMAnYJ+/zJ+DLlb5mt9yttQ0EXo6IVyPiQ+BO4PAK16nJImJhREzNy0uA50n/JA8nBQby7yPy8uHArZE8DWwuaRvgS8AjEfFORLwLPEKalKdNkbQd8FXgprwu4AvAPXmT2tdaeA/uAQ7O2x8O3BkRyyNiHvAy6e+hTZG0KSkY/AogIj6MNH1xVX622XpAZ0nrARsBC6mizzcingDeqVVcls8zv7ZpRDwVKdLfWnSsinFwt9a2LfDXovUFuWydlbsl9wCeAbaOiIWQvgAAW+XN6rvudeX9uAo4jzSFMEA34L2I+DivF9d71TXl1xfn7deVa90JeAv4db4NcZOkjanSzzYi/kaalOovpKC+GJhC9X6+BeX6PLfNy7XLK8rB3VpbXfei1tlHNiR1Ae4FzoqIfzS0aR1l0UB5myHpMODvETGluLiOTaOR19r8tWbrkbpwfxERewAfkLpt67NOX2++13w4qSv908DGwJfr2LRaPt/GNPX62uR1O7hba1sAbF+0vh3weoXqslYkrU8K7LdFxO9y8Zu5m478+++5vL7rXhfej/2Ar0uaT7qN8gVSS37z3I0La9Z71TXl1zcjdYmuC9cKqZ4LIuKZvH4PKdhX42cLcAgwLyLeioiPgN8B+1K9n29BuT7PBXm5dnlFObhba3sW6JVH4m5AGpDzQIXr1GT5HuOvgOcj4oqilx4ACqNoTwJ+X1R+Yh6JuzewOHcFPgQMkbRFbkENyWVtRkT8MCK2i4gepM/rsYg4HhgLDM2b1b7WwnswNG8fufzYPNq6J9CLNBCpTYmIN4C/StolFx0MPEcVfrbZX4C9JW2U/64L11uVn2+Rsnye+bUlkvbO79+JRceqnEqP6PNP+/shjUZ9iTSa9oJK16eZ1zCI1PU2E5ief75Cuvf4KDA3/+6atxdwXb7mWUBN0bFOJg0+ehn4dqWvrZHrHszq0fI7kf55vwzcDWyYyzvl9Zfz6zsV7X9Bfg9epA2MKG7gOvsBk/Pnez9pdHTVfrbARcALwGzgN6QR71Xz+QJ3kMYTfERqaf9rOT9PoCa/d68A15ITxFXyxxnqzMzMqoy75c3MzKqMg7uZmVmVcXA3MzOrMg7uZmZmVcbB3czMrMo4uJuZNZOksyRtVOl6mNXmR+HMzJopZ+2riYhFla6LWTG33M2sqkk6Mc/LPUPSbyTtKOnRXPaopB3ydiMlDS3a7/38e7CkcVo9v/ttOXvZmaRc7GMlja3M1ZnVbb3GNzEzWzdJ2o2UNW2/iFgkqStpes9bI+IWSScD19D4FJ17ALuRcoY/mY93jaQfAAe55W5tjVvuZlbNvgDcUwi+EfEOsA9we379N6RUwo2ZFBELImIlKdVwjxaoq1nZOLibWTUTjU+/WXj9Y/L/xDwByAZF2ywvWl6Bez2tjXNwN7Nq9ihwtKRuALlbfiJpdjuA44EJeXk+MCAvHw6sX8LxlwCblKuyZuXib59mVrUiYo6ki4HHJa0ApgFnAjdLOhd4C/h23vxG4PeSJpG+FHxQwiluAP4kaWFEHFT+KzBrHj8KZ2ZmVmXcLW9mZlZlHNzNzMyqjIO7mZlZlXFwNzMzqzIO7mZmZlXGwd3MzKzKOLibmZlVGQd3MzOzKvP/AR9x8G5N84zBAAAAAElFTkSuQmCC\n",
      "text/plain": [
       "<matplotlib.figure.Figure at 0x7f35c978fe10>"
      ]
     },
     "metadata": {
      "needs_background": "light"
     },
     "output_type": "display_data"
    }
   ],
   "source": [
    "sns.barplot(x=\"count\",y=\"page\",hue=\"churn\",data=page_df);"
   ]
  },
  {
   "cell_type": "markdown",
   "metadata": {},
   "source": [
    "Now have a little better visualization of some of the page options that might correlate to higher churn, for example, it appears that likely suspects indicating dissatisfaction, including *Thumbs Down*, *Downgrade* have higher incidences of Churn, along with other variables such as *Roll Advert* and *Upgrade*. There may be some correlated features, such as the user needs to go to the Home page before Downgrading or Cancelling, and users who upgraded also appear to have a higher rate of churning, possibly because they upgraded for a free promotion and no longer wanted to pay, or other explanations. It's important to note that this is only a small sample of the data, and we shouldn't draw conclusions from small sample sizes, but it does give us a sense of what's going on. To get a more quanitative picture, let's get the churn ratio for each of these page options:"
   ]
  },
  {
   "cell_type": "code",
   "execution_count": 22,
   "metadata": {},
   "outputs": [
    {
     "data": {
      "text/html": [
       "<div>\n",
       "<style scoped>\n",
       "    .dataframe tbody tr th:only-of-type {\n",
       "        vertical-align: middle;\n",
       "    }\n",
       "\n",
       "    .dataframe tbody tr th {\n",
       "        vertical-align: top;\n",
       "    }\n",
       "\n",
       "    .dataframe thead th {\n",
       "        text-align: right;\n",
       "    }\n",
       "</style>\n",
       "<table border=\"1\" class=\"dataframe\">\n",
       "  <thead>\n",
       "    <tr style=\"text-align: right;\">\n",
       "      <th></th>\n",
       "      <th>page</th>\n",
       "      <th>churn</th>\n",
       "      <th>count</th>\n",
       "      <th>churn_ratio</th>\n",
       "    </tr>\n",
       "  </thead>\n",
       "  <tbody>\n",
       "    <tr>\n",
       "      <th>3</th>\n",
       "      <td>Cancellation Confirmation</td>\n",
       "      <td>True</td>\n",
       "      <td>52</td>\n",
       "      <td>100.000000</td>\n",
       "    </tr>\n",
       "    <tr>\n",
       "      <th>4</th>\n",
       "      <td>Cancel</td>\n",
       "      <td>True</td>\n",
       "      <td>52</td>\n",
       "      <td>100.000000</td>\n",
       "    </tr>\n",
       "    <tr>\n",
       "      <th>16</th>\n",
       "      <td>About</td>\n",
       "      <td>False</td>\n",
       "      <td>439</td>\n",
       "      <td>88.686869</td>\n",
       "    </tr>\n",
       "    <tr>\n",
       "      <th>10</th>\n",
       "      <td>Error</td>\n",
       "      <td>False</td>\n",
       "      <td>220</td>\n",
       "      <td>87.301587</td>\n",
       "    </tr>\n",
       "    <tr>\n",
       "      <th>5</th>\n",
       "      <td>Submit Downgrade</td>\n",
       "      <td>False</td>\n",
       "      <td>54</td>\n",
       "      <td>85.714286</td>\n",
       "    </tr>\n",
       "    <tr>\n",
       "      <th>33</th>\n",
       "      <td>Thumbs Up</td>\n",
       "      <td>False</td>\n",
       "      <td>10692</td>\n",
       "      <td>85.188431</td>\n",
       "    </tr>\n",
       "    <tr>\n",
       "      <th>30</th>\n",
       "      <td>Add Friend</td>\n",
       "      <td>False</td>\n",
       "      <td>3641</td>\n",
       "      <td>85.129764</td>\n",
       "    </tr>\n",
       "    <tr>\n",
       "      <th>31</th>\n",
       "      <td>Add to Playlist</td>\n",
       "      <td>False</td>\n",
       "      <td>5488</td>\n",
       "      <td>84.094392</td>\n",
       "    </tr>\n",
       "    <tr>\n",
       "      <th>25</th>\n",
       "      <td>Downgrade</td>\n",
       "      <td>False</td>\n",
       "      <td>1718</td>\n",
       "      <td>83.600973</td>\n",
       "    </tr>\n",
       "    <tr>\n",
       "      <th>22</th>\n",
       "      <td>Help</td>\n",
       "      <td>False</td>\n",
       "      <td>1215</td>\n",
       "      <td>83.562586</td>\n",
       "    </tr>\n",
       "    <tr>\n",
       "      <th>32</th>\n",
       "      <td>Home</td>\n",
       "      <td>False</td>\n",
       "      <td>8410</td>\n",
       "      <td>83.415989</td>\n",
       "    </tr>\n",
       "    <tr>\n",
       "      <th>28</th>\n",
       "      <td>Logout</td>\n",
       "      <td>False</td>\n",
       "      <td>2673</td>\n",
       "      <td>82.858029</td>\n",
       "    </tr>\n",
       "    <tr>\n",
       "      <th>23</th>\n",
       "      <td>Settings</td>\n",
       "      <td>False</td>\n",
       "      <td>1244</td>\n",
       "      <td>82.166446</td>\n",
       "    </tr>\n",
       "    <tr>\n",
       "      <th>12</th>\n",
       "      <td>Save Settings</td>\n",
       "      <td>False</td>\n",
       "      <td>252</td>\n",
       "      <td>81.290323</td>\n",
       "    </tr>\n",
       "    <tr>\n",
       "      <th>27</th>\n",
       "      <td>Thumbs Down</td>\n",
       "      <td>False</td>\n",
       "      <td>2050</td>\n",
       "      <td>80.518460</td>\n",
       "    </tr>\n",
       "    <tr>\n",
       "      <th>9</th>\n",
       "      <td>Submit Upgrade</td>\n",
       "      <td>False</td>\n",
       "      <td>127</td>\n",
       "      <td>79.874214</td>\n",
       "    </tr>\n",
       "    <tr>\n",
       "      <th>15</th>\n",
       "      <td>Upgrade</td>\n",
       "      <td>False</td>\n",
       "      <td>387</td>\n",
       "      <td>77.555110</td>\n",
       "    </tr>\n",
       "    <tr>\n",
       "      <th>29</th>\n",
       "      <td>Roll Advert</td>\n",
       "      <td>False</td>\n",
       "      <td>2966</td>\n",
       "      <td>75.413171</td>\n",
       "    </tr>\n",
       "    <tr>\n",
       "      <th>20</th>\n",
       "      <td>Roll Advert</td>\n",
       "      <td>True</td>\n",
       "      <td>967</td>\n",
       "      <td>24.586829</td>\n",
       "    </tr>\n",
       "    <tr>\n",
       "      <th>8</th>\n",
       "      <td>Upgrade</td>\n",
       "      <td>True</td>\n",
       "      <td>112</td>\n",
       "      <td>22.444890</td>\n",
       "    </tr>\n",
       "    <tr>\n",
       "      <th>2</th>\n",
       "      <td>Submit Upgrade</td>\n",
       "      <td>True</td>\n",
       "      <td>32</td>\n",
       "      <td>20.125786</td>\n",
       "    </tr>\n",
       "    <tr>\n",
       "      <th>17</th>\n",
       "      <td>Thumbs Down</td>\n",
       "      <td>True</td>\n",
       "      <td>496</td>\n",
       "      <td>19.481540</td>\n",
       "    </tr>\n",
       "    <tr>\n",
       "      <th>7</th>\n",
       "      <td>Save Settings</td>\n",
       "      <td>True</td>\n",
       "      <td>58</td>\n",
       "      <td>18.709677</td>\n",
       "    </tr>\n",
       "    <tr>\n",
       "      <th>13</th>\n",
       "      <td>Settings</td>\n",
       "      <td>True</td>\n",
       "      <td>270</td>\n",
       "      <td>17.833554</td>\n",
       "    </tr>\n",
       "    <tr>\n",
       "      <th>18</th>\n",
       "      <td>Logout</td>\n",
       "      <td>True</td>\n",
       "      <td>553</td>\n",
       "      <td>17.141971</td>\n",
       "    </tr>\n",
       "    <tr>\n",
       "      <th>24</th>\n",
       "      <td>Home</td>\n",
       "      <td>True</td>\n",
       "      <td>1672</td>\n",
       "      <td>16.584011</td>\n",
       "    </tr>\n",
       "    <tr>\n",
       "      <th>11</th>\n",
       "      <td>Help</td>\n",
       "      <td>True</td>\n",
       "      <td>239</td>\n",
       "      <td>16.437414</td>\n",
       "    </tr>\n",
       "    <tr>\n",
       "      <th>14</th>\n",
       "      <td>Downgrade</td>\n",
       "      <td>True</td>\n",
       "      <td>337</td>\n",
       "      <td>16.399027</td>\n",
       "    </tr>\n",
       "    <tr>\n",
       "      <th>21</th>\n",
       "      <td>Add to Playlist</td>\n",
       "      <td>True</td>\n",
       "      <td>1038</td>\n",
       "      <td>15.905608</td>\n",
       "    </tr>\n",
       "    <tr>\n",
       "      <th>19</th>\n",
       "      <td>Add Friend</td>\n",
       "      <td>True</td>\n",
       "      <td>636</td>\n",
       "      <td>14.870236</td>\n",
       "    </tr>\n",
       "    <tr>\n",
       "      <th>26</th>\n",
       "      <td>Thumbs Up</td>\n",
       "      <td>True</td>\n",
       "      <td>1859</td>\n",
       "      <td>14.811569</td>\n",
       "    </tr>\n",
       "    <tr>\n",
       "      <th>0</th>\n",
       "      <td>Submit Downgrade</td>\n",
       "      <td>True</td>\n",
       "      <td>9</td>\n",
       "      <td>14.285714</td>\n",
       "    </tr>\n",
       "    <tr>\n",
       "      <th>1</th>\n",
       "      <td>Error</td>\n",
       "      <td>True</td>\n",
       "      <td>32</td>\n",
       "      <td>12.698413</td>\n",
       "    </tr>\n",
       "    <tr>\n",
       "      <th>6</th>\n",
       "      <td>About</td>\n",
       "      <td>True</td>\n",
       "      <td>56</td>\n",
       "      <td>11.313131</td>\n",
       "    </tr>\n",
       "  </tbody>\n",
       "</table>\n",
       "</div>"
      ],
      "text/plain": [
       "                         page  churn  count  churn_ratio\n",
       "3   Cancellation Confirmation   True     52   100.000000\n",
       "4                      Cancel   True     52   100.000000\n",
       "16                      About  False    439    88.686869\n",
       "10                      Error  False    220    87.301587\n",
       "5            Submit Downgrade  False     54    85.714286\n",
       "33                  Thumbs Up  False  10692    85.188431\n",
       "30                 Add Friend  False   3641    85.129764\n",
       "31            Add to Playlist  False   5488    84.094392\n",
       "25                  Downgrade  False   1718    83.600973\n",
       "22                       Help  False   1215    83.562586\n",
       "32                       Home  False   8410    83.415989\n",
       "28                     Logout  False   2673    82.858029\n",
       "23                   Settings  False   1244    82.166446\n",
       "12              Save Settings  False    252    81.290323\n",
       "27                Thumbs Down  False   2050    80.518460\n",
       "9              Submit Upgrade  False    127    79.874214\n",
       "15                    Upgrade  False    387    77.555110\n",
       "29                Roll Advert  False   2966    75.413171\n",
       "20                Roll Advert   True    967    24.586829\n",
       "8                     Upgrade   True    112    22.444890\n",
       "2              Submit Upgrade   True     32    20.125786\n",
       "17                Thumbs Down   True    496    19.481540\n",
       "7               Save Settings   True     58    18.709677\n",
       "13                   Settings   True    270    17.833554\n",
       "18                     Logout   True    553    17.141971\n",
       "24                       Home   True   1672    16.584011\n",
       "11                       Help   True    239    16.437414\n",
       "14                  Downgrade   True    337    16.399027\n",
       "21            Add to Playlist   True   1038    15.905608\n",
       "19                 Add Friend   True    636    14.870236\n",
       "26                  Thumbs Up   True   1859    14.811569\n",
       "0            Submit Downgrade   True      9    14.285714\n",
       "1                       Error   True     32    12.698413\n",
       "6                       About   True     56    11.313131"
      ]
     },
     "execution_count": 22,
     "metadata": {},
     "output_type": "execute_result"
    }
   ],
   "source": [
    "#define a lambda function to calculate the churn ratio (as percentage of total)\n",
    "f = lambda x: 100 * x / float(x.sum())\n",
    "page_df['churn_ratio'] = page_df.groupby(['page'])['count'].transform(f)\n",
    "page_df.sort_values(by='churn_ratio',ascending=False)"
   ]
  },
  {
   "cell_type": "markdown",
   "metadata": {},
   "source": [
    "We aren't interested in the columns that are all 100% - these include Cancellation Confirmation and Submit Downgrade, which we used to define churn, and it also looks like everyone who made it to the Cancel page also made it to Cancellation Confirmation, so we'll remove that column as well. "
   ]
  },
  {
   "cell_type": "code",
   "execution_count": 23,
   "metadata": {},
   "outputs": [],
   "source": [
    "page_df = page_df[page_df['churn_ratio']<100]"
   ]
  },
  {
   "cell_type": "markdown",
   "metadata": {},
   "source": [
    "Plot the churn ratio for each page"
   ]
  },
  {
   "cell_type": "code",
   "execution_count": 24,
   "metadata": {},
   "outputs": [
    {
     "data": {
      "image/png": "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\n",
      "text/plain": [
       "<matplotlib.figure.Figure at 0x7f35c90af0f0>"
      ]
     },
     "metadata": {
      "needs_background": "light"
     },
     "output_type": "display_data"
    }
   ],
   "source": [
    "sns.barplot(x=\"churn_ratio\",y=\"page\",hue=\"churn\",data=page_df.sort_values(by='churn_ratio',ascending=True));"
   ]
  },
  {
   "cell_type": "markdown",
   "metadata": {},
   "source": [
    "This gives a slightly clearer picture of what we gathered from the previous plot. Users had to watch a lot of ads (*Roll Advert*), upgraded (*Upgrade*, *Submit Upgrade*) and disliked many songs (*Thumbs Down*) tended to churn more than others. Also support interactions (*Save Settings*, *Settings*, *Logout*, *Home*, *Help*) appear to be possible indicators of churn. Expectedly, positive interactions such as (*Add to Playlist*,*Add Friend*,*Thumbs Up*) have negative correlations with churn. And finally, there are a few negatively correlated variables (such as *Submit Downgrade*, *Error* and *About*) that don't make as much sense intuitively, but we could look into it further. \n",
    "\n",
    "It's perhaps a less obvious why users who upgraded ended up churning, but it could be that they upgraded as part of a free promotion but then decided they didn't want to pay. ??Or just that if a user upgrades there are then more ways to downgrade, so the likelihood is by default higher. We could dig into this deeper and investigate how long after they upgraded that they churned.?? <- remove this part?\n",
    "\n",
    "Next let's take a look at the songs listened to by the user in a hour, day, and week to get a better sense of the listening behavior and it might affect churn:"
   ]
  },
  {
   "cell_type": "markdown",
   "metadata": {},
   "source": [
    "Now that we have a better sense of how the user selections affect churn, let's look at some of the other variables:"
   ]
  },
  {
   "cell_type": "code",
   "execution_count": 25,
   "metadata": {},
   "outputs": [
    {
     "data": {
      "text/html": [
       "<div>\n",
       "<style scoped>\n",
       "    .dataframe tbody tr th:only-of-type {\n",
       "        vertical-align: middle;\n",
       "    }\n",
       "\n",
       "    .dataframe tbody tr th {\n",
       "        vertical-align: top;\n",
       "    }\n",
       "\n",
       "    .dataframe thead th {\n",
       "        text-align: right;\n",
       "    }\n",
       "</style>\n",
       "<table border=\"1\" class=\"dataframe\">\n",
       "  <thead>\n",
       "    <tr style=\"text-align: right;\">\n",
       "      <th></th>\n",
       "      <th>gender</th>\n",
       "      <th>churn</th>\n",
       "      <th>count</th>\n",
       "      <th>churn_ratio</th>\n",
       "    </tr>\n",
       "  </thead>\n",
       "  <tbody>\n",
       "    <tr>\n",
       "      <th>0</th>\n",
       "      <td>F</td>\n",
       "      <td>True</td>\n",
       "      <td>19168</td>\n",
       "      <td>12.400212</td>\n",
       "    </tr>\n",
       "    <tr>\n",
       "      <th>1</th>\n",
       "      <td>M</td>\n",
       "      <td>True</td>\n",
       "      <td>25696</td>\n",
       "      <td>20.793682</td>\n",
       "    </tr>\n",
       "    <tr>\n",
       "      <th>2</th>\n",
       "      <td>M</td>\n",
       "      <td>False</td>\n",
       "      <td>97880</td>\n",
       "      <td>79.206318</td>\n",
       "    </tr>\n",
       "    <tr>\n",
       "      <th>3</th>\n",
       "      <td>F</td>\n",
       "      <td>False</td>\n",
       "      <td>135410</td>\n",
       "      <td>87.599788</td>\n",
       "    </tr>\n",
       "  </tbody>\n",
       "</table>\n",
       "</div>"
      ],
      "text/plain": [
       "  gender  churn   count  churn_ratio\n",
       "0      F   True   19168    12.400212\n",
       "1      M   True   25696    20.793682\n",
       "2      M  False   97880    79.206318\n",
       "3      F  False  135410    87.599788"
      ]
     },
     "execution_count": 25,
     "metadata": {},
     "output_type": "execute_result"
    }
   ],
   "source": [
    "gender_df = sparkify_churn.select([\"gender\",\"churn\"]).groupby([\"gender\",\"churn\"]).count().sort(\"count\").toPandas()\n",
    "gender_df['churn_ratio'] = gender_df.groupby(['gender'])['count'].transform(f)\n",
    "gender_df.sort_values(by='churn_ratio',ascending=False)\n",
    "gender_df"
   ]
  },
  {
   "cell_type": "code",
   "execution_count": 26,
   "metadata": {},
   "outputs": [
    {
     "data": {
      "image/png": "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\n",
      "text/plain": [
       "<matplotlib.figure.Figure at 0x7f35c8d71160>"
      ]
     },
     "metadata": {
      "needs_background": "light"
     },
     "output_type": "display_data"
    }
   ],
   "source": [
    "sns.barplot(x=\"churn_ratio\",y=\"gender\",hue=\"churn\",data=gender_df.sort_values(by='churn_ratio',ascending=False));"
   ]
  },
  {
   "cell_type": "markdown",
   "metadata": {},
   "source": [
    "It appears that more men churn than women, at least with this smaller dataset, so this could be a useful feature to include."
   ]
  },
  {
   "cell_type": "code",
   "execution_count": 27,
   "metadata": {},
   "outputs": [
    {
     "data": {
      "text/html": [
       "<div>\n",
       "<style scoped>\n",
       "    .dataframe tbody tr th:only-of-type {\n",
       "        vertical-align: middle;\n",
       "    }\n",
       "\n",
       "    .dataframe tbody tr th {\n",
       "        vertical-align: top;\n",
       "    }\n",
       "\n",
       "    .dataframe thead th {\n",
       "        text-align: right;\n",
       "    }\n",
       "</style>\n",
       "<table border=\"1\" class=\"dataframe\">\n",
       "  <thead>\n",
       "    <tr style=\"text-align: right;\">\n",
       "      <th></th>\n",
       "      <th>level</th>\n",
       "      <th>churn</th>\n",
       "      <th>count</th>\n",
       "      <th>churn_ratio</th>\n",
       "    </tr>\n",
       "  </thead>\n",
       "  <tbody>\n",
       "    <tr>\n",
       "      <th>0</th>\n",
       "      <td>free</td>\n",
       "      <td>True</td>\n",
       "      <td>12388</td>\n",
       "      <td>22.232193</td>\n",
       "    </tr>\n",
       "    <tr>\n",
       "      <th>1</th>\n",
       "      <td>paid</td>\n",
       "      <td>True</td>\n",
       "      <td>32476</td>\n",
       "      <td>14.600352</td>\n",
       "    </tr>\n",
       "    <tr>\n",
       "      <th>2</th>\n",
       "      <td>free</td>\n",
       "      <td>False</td>\n",
       "      <td>43333</td>\n",
       "      <td>77.767807</td>\n",
       "    </tr>\n",
       "    <tr>\n",
       "      <th>3</th>\n",
       "      <td>paid</td>\n",
       "      <td>False</td>\n",
       "      <td>189957</td>\n",
       "      <td>85.399648</td>\n",
       "    </tr>\n",
       "  </tbody>\n",
       "</table>\n",
       "</div>"
      ],
      "text/plain": [
       "  level  churn   count  churn_ratio\n",
       "0  free   True   12388    22.232193\n",
       "1  paid   True   32476    14.600352\n",
       "2  free  False   43333    77.767807\n",
       "3  paid  False  189957    85.399648"
      ]
     },
     "execution_count": 27,
     "metadata": {},
     "output_type": "execute_result"
    }
   ],
   "source": [
    "level_df = sparkify_churn.select([\"level\",\"churn\"]).groupby([\"level\",\"churn\"]).count().sort(\"count\").toPandas()\n",
    "level_df['churn_ratio'] = level_df.groupby(['level'])['count'].transform(f)\n",
    "level_df.sort_values(by='churn_ratio',ascending=False)\n",
    "level_df"
   ]
  },
  {
   "cell_type": "code",
   "execution_count": 28,
   "metadata": {},
   "outputs": [
    {
     "data": {
      "image/png": "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\n",
      "text/plain": [
       "<matplotlib.figure.Figure at 0x7f35c8cf1b00>"
      ]
     },
     "metadata": {
      "needs_background": "light"
     },
     "output_type": "display_data"
    }
   ],
   "source": [
    "sns.barplot(x=\"churn_ratio\",y=\"level\",hue=\"churn\",data=level_df.sort_values(by='churn_ratio',ascending=False));"
   ]
  },
  {
   "cell_type": "markdown",
   "metadata": {},
   "source": [
    "It appears that free subscribers churn more than paid, again this looks like a potentially promising feature to include.\n",
    "\n",
    "Next let's dig into the user's total time on the app and some other app interaction (eg. listening) habits."
   ]
  },
  {
   "cell_type": "code",
   "execution_count": 29,
   "metadata": {},
   "outputs": [],
   "source": [
    "#get total number of days on app for each user = time since registration in days\n",
    "reg_df = sparkify_churn.select('userId', 'registration', 'page', 'ts', 'churn').toPandas()\n",
    "reg_df['reg_days'] = reg_df.apply(lambda x: (datetime.fromtimestamp(x['ts']/1000) - datetime.fromtimestamp(x['registration']/1000)).days, axis=1)"
   ]
  },
  {
   "cell_type": "code",
   "execution_count": 30,
   "metadata": {},
   "outputs": [
    {
     "data": {
      "text/html": [
       "<div>\n",
       "<style scoped>\n",
       "    .dataframe tbody tr th:only-of-type {\n",
       "        vertical-align: middle;\n",
       "    }\n",
       "\n",
       "    .dataframe tbody tr th {\n",
       "        vertical-align: top;\n",
       "    }\n",
       "\n",
       "    .dataframe thead th {\n",
       "        text-align: right;\n",
       "    }\n",
       "</style>\n",
       "<table border=\"1\" class=\"dataframe\">\n",
       "  <thead>\n",
       "    <tr style=\"text-align: right;\">\n",
       "      <th></th>\n",
       "      <th>userId</th>\n",
       "      <th>registration</th>\n",
       "      <th>page</th>\n",
       "      <th>ts</th>\n",
       "      <th>churn</th>\n",
       "      <th>reg_days</th>\n",
       "    </tr>\n",
       "  </thead>\n",
       "  <tbody>\n",
       "    <tr>\n",
       "      <th>0</th>\n",
       "      <td>30</td>\n",
       "      <td>1538173362000</td>\n",
       "      <td>NextSong</td>\n",
       "      <td>1538352117000</td>\n",
       "      <td>False</td>\n",
       "      <td>2</td>\n",
       "    </tr>\n",
       "    <tr>\n",
       "      <th>1</th>\n",
       "      <td>9</td>\n",
       "      <td>1538331630000</td>\n",
       "      <td>NextSong</td>\n",
       "      <td>1538352180000</td>\n",
       "      <td>False</td>\n",
       "      <td>0</td>\n",
       "    </tr>\n",
       "    <tr>\n",
       "      <th>2</th>\n",
       "      <td>30</td>\n",
       "      <td>1538173362000</td>\n",
       "      <td>NextSong</td>\n",
       "      <td>1538352394000</td>\n",
       "      <td>False</td>\n",
       "      <td>2</td>\n",
       "    </tr>\n",
       "    <tr>\n",
       "      <th>3</th>\n",
       "      <td>9</td>\n",
       "      <td>1538331630000</td>\n",
       "      <td>NextSong</td>\n",
       "      <td>1538352416000</td>\n",
       "      <td>False</td>\n",
       "      <td>0</td>\n",
       "    </tr>\n",
       "    <tr>\n",
       "      <th>4</th>\n",
       "      <td>30</td>\n",
       "      <td>1538173362000</td>\n",
       "      <td>NextSong</td>\n",
       "      <td>1538352676000</td>\n",
       "      <td>False</td>\n",
       "      <td>2</td>\n",
       "    </tr>\n",
       "    <tr>\n",
       "      <th>5</th>\n",
       "      <td>9</td>\n",
       "      <td>1538331630000</td>\n",
       "      <td>NextSong</td>\n",
       "      <td>1538352678000</td>\n",
       "      <td>False</td>\n",
       "      <td>0</td>\n",
       "    </tr>\n",
       "    <tr>\n",
       "      <th>6</th>\n",
       "      <td>9</td>\n",
       "      <td>1538331630000</td>\n",
       "      <td>NextSong</td>\n",
       "      <td>1538352886000</td>\n",
       "      <td>False</td>\n",
       "      <td>0</td>\n",
       "    </tr>\n",
       "    <tr>\n",
       "      <th>7</th>\n",
       "      <td>30</td>\n",
       "      <td>1538173362000</td>\n",
       "      <td>NextSong</td>\n",
       "      <td>1538352899000</td>\n",
       "      <td>False</td>\n",
       "      <td>2</td>\n",
       "    </tr>\n",
       "    <tr>\n",
       "      <th>8</th>\n",
       "      <td>30</td>\n",
       "      <td>1538173362000</td>\n",
       "      <td>Add to Playlist</td>\n",
       "      <td>1538352905000</td>\n",
       "      <td>False</td>\n",
       "      <td>2</td>\n",
       "    </tr>\n",
       "    <tr>\n",
       "      <th>9</th>\n",
       "      <td>30</td>\n",
       "      <td>1538173362000</td>\n",
       "      <td>NextSong</td>\n",
       "      <td>1538353084000</td>\n",
       "      <td>False</td>\n",
       "      <td>2</td>\n",
       "    </tr>\n",
       "  </tbody>\n",
       "</table>\n",
       "</div>"
      ],
      "text/plain": [
       "  userId   registration             page             ts  churn  reg_days\n",
       "0     30  1538173362000         NextSong  1538352117000  False         2\n",
       "1      9  1538331630000         NextSong  1538352180000  False         0\n",
       "2     30  1538173362000         NextSong  1538352394000  False         2\n",
       "3      9  1538331630000         NextSong  1538352416000  False         0\n",
       "4     30  1538173362000         NextSong  1538352676000  False         2\n",
       "5      9  1538331630000         NextSong  1538352678000  False         0\n",
       "6      9  1538331630000         NextSong  1538352886000  False         0\n",
       "7     30  1538173362000         NextSong  1538352899000  False         2\n",
       "8     30  1538173362000  Add to Playlist  1538352905000  False         2\n",
       "9     30  1538173362000         NextSong  1538353084000  False         2"
      ]
     },
     "execution_count": 30,
     "metadata": {},
     "output_type": "execute_result"
    }
   ],
   "source": [
    "reg_df.head(10)"
   ]
  },
  {
   "cell_type": "code",
   "execution_count": 31,
   "metadata": {},
   "outputs": [
    {
     "data": {
      "text/html": [
       "<div>\n",
       "<style scoped>\n",
       "    .dataframe tbody tr th:only-of-type {\n",
       "        vertical-align: middle;\n",
       "    }\n",
       "\n",
       "    .dataframe tbody tr th {\n",
       "        vertical-align: top;\n",
       "    }\n",
       "\n",
       "    .dataframe thead th {\n",
       "        text-align: right;\n",
       "    }\n",
       "</style>\n",
       "<table border=\"1\" class=\"dataframe\">\n",
       "  <thead>\n",
       "    <tr style=\"text-align: right;\">\n",
       "      <th></th>\n",
       "      <th>reg_days</th>\n",
       "    </tr>\n",
       "    <tr>\n",
       "      <th>churn</th>\n",
       "      <th></th>\n",
       "    </tr>\n",
       "  </thead>\n",
       "  <tbody>\n",
       "    <tr>\n",
       "      <th>False</th>\n",
       "      <td>86.144509</td>\n",
       "    </tr>\n",
       "    <tr>\n",
       "      <th>True</th>\n",
       "      <td>56.807692</td>\n",
       "    </tr>\n",
       "  </tbody>\n",
       "</table>\n",
       "</div>"
      ],
      "text/plain": [
       "        reg_days\n",
       "churn           \n",
       "False  86.144509\n",
       "True   56.807692"
      ]
     },
     "execution_count": 31,
     "metadata": {},
     "output_type": "execute_result"
    }
   ],
   "source": [
    "# the days registered will be the maximum reg_days for each user\n",
    "days_registered = reg_df.groupby('userId')['reg_days','churn'].max()\n",
    "days_registered[['reg_days','churn']].groupby('churn').mean()"
   ]
  },
  {
   "cell_type": "code",
   "execution_count": 32,
   "metadata": {},
   "outputs": [
    {
     "data": {
      "image/png": "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\n",
      "text/plain": [
       "<matplotlib.figure.Figure at 0x7f35c8c1eef0>"
      ]
     },
     "metadata": {
      "needs_background": "light"
     },
     "output_type": "display_data"
    }
   ],
   "source": [
    "figure, axis = plt.subplots(1, 1, figsize=(5, 5))\n",
    "axis.set_title(\"Days registered on sparkify\")\n",
    "sns.boxplot(x='churn', y='reg_days', data=days_registered, ax=axis)\n",
    "axis.set_xlabel(\"churned?\")\n",
    "plt.legend(loc=\"best\")\n",
    "plt.show()"
   ]
  },
  {
   "cell_type": "markdown",
   "metadata": {},
   "source": [
    "Users who churn tend to be newer members (registered for fewer days) than those who don't. "
   ]
  },
  {
   "cell_type": "markdown",
   "metadata": {},
   "source": [
    "Next let's look at how much the user uses the app - total length of time listening to songs, number of sessions, and average time listened per day."
   ]
  },
  {
   "cell_type": "code",
   "execution_count": 33,
   "metadata": {},
   "outputs": [],
   "source": [
    "df_songs = sparkify_churn.select('userId', 'artist', 'sessionId', 'song', 'length', 'churn').toPandas()\n",
    "listen_time = df_songs.groupby(['userId'])['length'].sum().reset_index()\n",
    "#convert from seconds to hours\n",
    "listen_time['length']=listen_time['length'].div(60*60)\n",
    "num_sessions = df_songs.groupby(['userId'])['sessionId'].nunique().reset_index()"
   ]
  },
  {
   "cell_type": "code",
   "execution_count": 34,
   "metadata": {},
   "outputs": [],
   "source": [
    "#merge into a single dataframe\n",
    "user_song_df = days_registered.merge(listen_time,on='userId').merge(num_sessions,on='userId')\n",
    "user_song_df.rename(columns={\"length\":\"time_listened_hrs\",\"sessionId\":\"num_sessions\"},inplace=True)"
   ]
  },
  {
   "cell_type": "code",
   "execution_count": 35,
   "metadata": {},
   "outputs": [
    {
     "data": {
      "text/html": [
       "<div>\n",
       "<style scoped>\n",
       "    .dataframe tbody tr th:only-of-type {\n",
       "        vertical-align: middle;\n",
       "    }\n",
       "\n",
       "    .dataframe tbody tr th {\n",
       "        vertical-align: top;\n",
       "    }\n",
       "\n",
       "    .dataframe thead th {\n",
       "        text-align: right;\n",
       "    }\n",
       "</style>\n",
       "<table border=\"1\" class=\"dataframe\">\n",
       "  <thead>\n",
       "    <tr style=\"text-align: right;\">\n",
       "      <th></th>\n",
       "      <th>userId</th>\n",
       "      <th>reg_days</th>\n",
       "      <th>churn</th>\n",
       "      <th>time_listened_hrs</th>\n",
       "      <th>num_sessions</th>\n",
       "      <th>avg_hrs_per_day</th>\n",
       "    </tr>\n",
       "  </thead>\n",
       "  <tbody>\n",
       "    <tr>\n",
       "      <th>0</th>\n",
       "      <td>10</td>\n",
       "      <td>51</td>\n",
       "      <td>False</td>\n",
       "      <td>46.351770</td>\n",
       "      <td>6</td>\n",
       "      <td>0.891380</td>\n",
       "    </tr>\n",
       "    <tr>\n",
       "      <th>1</th>\n",
       "      <td>100</td>\n",
       "      <td>64</td>\n",
       "      <td>False</td>\n",
       "      <td>186.910516</td>\n",
       "      <td>35</td>\n",
       "      <td>2.875546</td>\n",
       "    </tr>\n",
       "    <tr>\n",
       "      <th>2</th>\n",
       "      <td>100001</td>\n",
       "      <td>44</td>\n",
       "      <td>True</td>\n",
       "      <td>9.742706</td>\n",
       "      <td>4</td>\n",
       "      <td>0.216505</td>\n",
       "    </tr>\n",
       "    <tr>\n",
       "      <th>3</th>\n",
       "      <td>100002</td>\n",
       "      <td>160</td>\n",
       "      <td>False</td>\n",
       "      <td>13.766644</td>\n",
       "      <td>4</td>\n",
       "      <td>0.085507</td>\n",
       "    </tr>\n",
       "    <tr>\n",
       "      <th>4</th>\n",
       "      <td>100003</td>\n",
       "      <td>22</td>\n",
       "      <td>True</td>\n",
       "      <td>3.418450</td>\n",
       "      <td>2</td>\n",
       "      <td>0.148628</td>\n",
       "    </tr>\n",
       "  </tbody>\n",
       "</table>\n",
       "</div>"
      ],
      "text/plain": [
       "   userId  reg_days  churn  time_listened_hrs  num_sessions  avg_hrs_per_day\n",
       "0      10        51  False          46.351770             6         0.891380\n",
       "1     100        64  False         186.910516            35         2.875546\n",
       "2  100001        44   True           9.742706             4         0.216505\n",
       "3  100002       160  False          13.766644             4         0.085507\n",
       "4  100003        22   True           3.418450             2         0.148628"
      ]
     },
     "execution_count": 35,
     "metadata": {},
     "output_type": "execute_result"
    }
   ],
   "source": [
    "user_song_df['avg_hrs_per_day'] = user_song_df['time_listened_hrs'].div(user_song_df['reg_days']+1)\n",
    "#add one to reg_days in case there are any values of 0 (there were in this small dataset), the value should give the same information\n",
    "#this may skew the data for users who are brand new, but will give us a sense at least\n",
    "user_song_df.head()"
   ]
  },
  {
   "cell_type": "code",
   "execution_count": 36,
   "metadata": {},
   "outputs": [
    {
     "name": "stdout",
     "output_type": "stream",
     "text": [
      "minimum hours listened / day {%0.2f}:  0.006\n",
      "minimum hours listened / day :  7.268\n"
     ]
    }
   ],
   "source": [
    "print('minimum hours listened / day {%0.2f}: ',np.round(user_song_df['avg_hrs_per_day'].values.min(),3))\n",
    "print('minimum hours listened / day : ',np.round(user_song_df['avg_hrs_per_day'].values.max(),3))"
   ]
  },
  {
   "cell_type": "code",
   "execution_count": 37,
   "metadata": {
    "scrolled": true
   },
   "outputs": [
    {
     "data": {
      "text/html": [
       "<div>\n",
       "<style scoped>\n",
       "    .dataframe tbody tr th:only-of-type {\n",
       "        vertical-align: middle;\n",
       "    }\n",
       "\n",
       "    .dataframe tbody tr th {\n",
       "        vertical-align: top;\n",
       "    }\n",
       "\n",
       "    .dataframe thead th {\n",
       "        text-align: right;\n",
       "    }\n",
       "</style>\n",
       "<table border=\"1\" class=\"dataframe\">\n",
       "  <thead>\n",
       "    <tr style=\"text-align: right;\">\n",
       "      <th></th>\n",
       "      <th>avg_hrs_per_day</th>\n",
       "    </tr>\n",
       "    <tr>\n",
       "      <th>churn</th>\n",
       "      <th></th>\n",
       "    </tr>\n",
       "  </thead>\n",
       "  <tbody>\n",
       "    <tr>\n",
       "      <th>False</th>\n",
       "      <td>0.944688</td>\n",
       "    </tr>\n",
       "    <tr>\n",
       "      <th>True</th>\n",
       "      <td>1.041371</td>\n",
       "    </tr>\n",
       "  </tbody>\n",
       "</table>\n",
       "</div>"
      ],
      "text/plain": [
       "       avg_hrs_per_day\n",
       "churn                 \n",
       "False         0.944688\n",
       "True          1.041371"
      ]
     },
     "execution_count": 37,
     "metadata": {},
     "output_type": "execute_result"
    }
   ],
   "source": [
    "user_song_df[['avg_hrs_per_day','churn']].groupby('churn').mean()"
   ]
  },
  {
   "cell_type": "code",
   "execution_count": 38,
   "metadata": {
    "scrolled": true
   },
   "outputs": [
    {
     "data": {
      "image/png": "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\n",
      "text/plain": [
       "<matplotlib.figure.Figure at 0x7f35c956fcf8>"
      ]
     },
     "metadata": {
      "needs_background": "light"
     },
     "output_type": "display_data"
    }
   ],
   "source": [
    "figure, axis = plt.subplots(1, 1, figsize=(5, 5))\n",
    "axis.set_title(\"Average hours listened per day v. churn\")\n",
    "sns.boxplot(x='churn', y='avg_hrs_per_day', data=user_song_df, ax=axis)\n",
    "axis.set_xlabel(\"churned?\")\n",
    "plt.legend(loc=\"best\")\n",
    "plt.show()"
   ]
  },
  {
   "cell_type": "markdown",
   "metadata": {},
   "source": [
    "Those who churn tend to use the app slightly more per day than those who don't - this is perhaps a little counter-intuitive, maybe includes advertisement time? Or, more likely this difference is too slight to draw any statistical meaning from, the difference is within the noise of the data. "
   ]
  },
  {
   "cell_type": "markdown",
   "metadata": {},
   "source": [
    "## 4. Feature Generation<a class=\"anchor\" id=\"feature_gen\"></a>\n",
    "\n",
    "Now that we've gained a better sense of which features might be more indicative of churn, using pandas dataframes, let's generate these features in a pyspark framework to run some models. I decided to start with the following features (the number to the right is the number of features):\n",
    "\n",
    "- count of page interactions () - 7\n",
    "- level (paid/free) - 2 (dummy to 0/1)\n",
    "- gender (male/female) - 2 (dummy to 0/1)\n",
    "- length of time registered - 1 \n",
    "- total length of songs listened to - 1\n",
    "\n",
    "total # of features: 14\n",
    "\n",
    "Since we only have 52 unique users, 14 features is fairly high number relative to the size of the dataset, meaning this smaller dataset will likely be overfit. But with more training data, it should be a reasonable number to include. \n",
    "\n",
    "## 4a. features derived from page column"
   ]
  },
  {
   "cell_type": "code",
   "execution_count": 39,
   "metadata": {},
   "outputs": [
    {
     "data": {
      "text/plain": [
       "array(['Cancel', 'Submit Downgrade', 'Thumbs Down', 'Home', 'Downgrade',\n",
       "       'Roll Advert', 'Logout', 'Save Settings',\n",
       "       'Cancellation Confirmation', 'About', 'Submit Registration',\n",
       "       'Settings', 'Login', 'Register', 'Add to Playlist', 'Add Friend',\n",
       "       'NextSong', 'Thumbs Up', 'Help', 'Upgrade', 'Error',\n",
       "       'Submit Upgrade'], dtype=object)"
      ]
     },
     "execution_count": 39,
     "metadata": {},
     "output_type": "execute_result"
    }
   ],
   "source": [
    "#get a list of all the unique pages, and display for reference\n",
    "pages_df = sparkify.select(\"page\").dropDuplicates().toPandas()\n",
    "pages = pages_df['page'].unique()\n",
    "pages"
   ]
  },
  {
   "cell_type": "code",
   "execution_count": 40,
   "metadata": {},
   "outputs": [],
   "source": [
    "def get_page_count(page_name):\n",
    "    \"\"\"\n",
    "    get_page_count extracts the total number of page visits by user for each page\n",
    "    ARGS: \n",
    "    page_name - name of page being viewed\n",
    "    \n",
    "    RETURNS:\n",
    "    page_name_alias - name of page in new dataframe (original page, lower case and with _ instead of space separations)\n",
    "    df - dataframe containing the unique users and number of page visits for the page specified\n",
    "    \"\"\"\n",
    "    page_name_alias = page_name.lower().replace(' ','_')\n",
    "    df = sparkify_churn.where(sparkify_churn.page==page_name).groupby(['userId']).agg(count(col('page')).alias(page_name_alias)).orderBy('userId').select(['userId',page_name_alias])\n",
    "    return page_name_alias, df"
   ]
  },
  {
   "cell_type": "code",
   "execution_count": 41,
   "metadata": {},
   "outputs": [
    {
     "data": {
      "text/plain": [
       "225"
      ]
     },
     "execution_count": 41,
     "metadata": {},
     "output_type": "execute_result"
    }
   ],
   "source": [
    "# in making our features, let's start with a feature dataframe containing the userId and whether or not that user churned\n",
    "page_features = sparkify_churn.dropDuplicates(['userId']).select(['userId','churn'])\n",
    "page_features.count()"
   ]
  },
  {
   "cell_type": "code",
   "execution_count": 42,
   "metadata": {},
   "outputs": [],
   "source": [
    "#create a dictionary of the page features to store all the page-related dataframes\n",
    "page_feature_dict = {}\n",
    "for page in pages:\n",
    "    if page not in ['Cancellation Confirmation','NextSong']:\n",
    "        page_name, page_df = get_page_count(page)\n",
    "        page_feature_dict[page_name] = page_df"
   ]
  },
  {
   "cell_type": "code",
   "execution_count": 43,
   "metadata": {},
   "outputs": [
    {
     "name": "stdout",
     "output_type": "stream",
     "text": [
      "cancel :  52\n",
      "submit_downgrade :  49\n",
      "thumbs_down :  203\n",
      "home :  223\n",
      "downgrade :  154\n",
      "roll_advert :  207\n",
      "logout :  213\n",
      "save_settings :  132\n",
      "about :  155\n",
      "submit_registration :  0\n",
      "settings :  195\n",
      "login :  0\n",
      "register :  0\n",
      "add_to_playlist :  215\n",
      "add_friend :  206\n",
      "thumbs_up :  220\n",
      "help :  192\n",
      "upgrade :  168\n",
      "error :  117\n",
      "submit_upgrade :  131\n"
     ]
    }
   ],
   "source": [
    "#let's get a look at the count for each, this will give us a sense of how much data we have\n",
    "for key, val in page_feature_dict.items():\n",
    "    print(key,': ',val.count())"
   ]
  },
  {
   "cell_type": "code",
   "execution_count": 44,
   "metadata": {},
   "outputs": [],
   "source": [
    "#start with a subset of pages (go back to the bar chart to look at the variables that appear to be most related to churn\n",
    "# and also look at the total # of users in our subsetted dataset that )\n",
    "for page in ['thumbs_down','thumbs_up','roll_advert','upgrade','downgrade','add_friend','add_to_playlist']:\n",
    "    page_features = page_features.join(page_feature_dict[page],on=['userId'],how='left')"
   ]
  },
  {
   "cell_type": "code",
   "execution_count": 45,
   "metadata": {},
   "outputs": [
    {
     "name": "stdout",
     "output_type": "stream",
     "text": [
      "root\n",
      " |-- userId: string (nullable = true)\n",
      " |-- churn: boolean (nullable = true)\n",
      " |-- thumbs_down: long (nullable = true)\n",
      " |-- thumbs_up: long (nullable = true)\n",
      " |-- roll_advert: long (nullable = true)\n",
      " |-- upgrade: long (nullable = true)\n",
      " |-- downgrade: long (nullable = true)\n",
      " |-- add_friend: long (nullable = true)\n",
      " |-- add_to_playlist: long (nullable = true)\n",
      "\n"
     ]
    }
   ],
   "source": [
    "page_features.printSchema()"
   ]
  },
  {
   "cell_type": "code",
   "execution_count": 46,
   "metadata": {},
   "outputs": [],
   "source": [
    "# convert data type for each column into float and fill nulls with zeros (since these are counts, that should be fine)\n",
    "for f in page_features.columns[1:]:\n",
    "    page_features = page_features.withColumn(f,page_features[f].cast('float')).fillna(0)"
   ]
  },
  {
   "cell_type": "code",
   "execution_count": 47,
   "metadata": {
    "scrolled": true
   },
   "outputs": [
    {
     "name": "stdout",
     "output_type": "stream",
     "text": [
      "+------+-----+-----------+---------+-----------+-------+---------+----------+---------------+\n",
      "|userId|churn|thumbs_down|thumbs_up|roll_advert|upgrade|downgrade|add_friend|add_to_playlist|\n",
      "+------+-----+-----------+---------+-----------+-------+---------+----------+---------------+\n",
      "|100010|  0.0|        5.0|     17.0|       52.0|    2.0|      0.0|       4.0|            7.0|\n",
      "|200002|  0.0|        6.0|     21.0|        7.0|    2.0|      5.0|       4.0|            8.0|\n",
      "|   125|  1.0|        0.0|      0.0|        1.0|    0.0|      0.0|       0.0|            0.0|\n",
      "|   124|  0.0|       41.0|    171.0|        4.0|    0.0|     41.0|      74.0|          118.0|\n",
      "|    51|  1.0|       21.0|    100.0|        0.0|    0.0|     23.0|      28.0|           52.0|\n",
      "+------+-----+-----------+---------+-----------+-------+---------+----------+---------------+\n",
      "only showing top 5 rows\n",
      "\n"
     ]
    }
   ],
   "source": [
    "#preview the page_features pyspark dataframe\n",
    "page_features.show(5)"
   ]
  },
  {
   "cell_type": "markdown",
   "metadata": {},
   "source": [
    "Next, add some other features such as level, gender, time listened to songs, and time registered:\n",
    "\n",
    "## 4b. level (paid/free) and gender (male/female)\n",
    "\n",
    "These need to be dummied into 0/1"
   ]
  },
  {
   "cell_type": "code",
   "execution_count": 48,
   "metadata": {},
   "outputs": [],
   "source": [
    "def create_dummy_feature(df,var,dummy1,dummy2):\n",
    "    \"\"\"\n",
    "    create_dummy_features takes a sparkify dataframe and a given column and dummies the variables into 0/1\n",
    "    \n",
    "    ARGS:\n",
    "    df - sparkify dataframe\n",
    "    var - column that you want to dummy \n",
    "    dummy1 - first variable to dummy (will become 1)\n",
    "    dummy2 - second variable to dummy (will become 0)\n",
    "    \n",
    "    RETURNS:\n",
    "    df_dummy - the original dataframe but with original variables in question dummied to 0/1\n",
    "    \n",
    "    \"\"\"\n",
    "    df_dummy = df.dropDuplicates(['userId']).sort('userId').select(['userId',var]) \\\n",
    "                    .replace([dummy1,dummy2], ['1', '0'],var)\n",
    "    df_dummy = df_dummy.withColumn(var,df_dummy[var].cast('int'))\n",
    "    return df_dummy"
   ]
  },
  {
   "cell_type": "code",
   "execution_count": 49,
   "metadata": {},
   "outputs": [],
   "source": [
    "#use function above to create dummy dataframes for the level and gender columns:\n",
    "level_feature = create_dummy_feature(sparkify_churn,'level','paid','free')\n",
    "gender_feature = create_dummy_feature(sparkify_churn,'gender','M','F')"
   ]
  },
  {
   "cell_type": "code",
   "execution_count": 50,
   "metadata": {},
   "outputs": [
    {
     "name": "stdout",
     "output_type": "stream",
     "text": [
      "+------+-----+\n",
      "|userId|level|\n",
      "+------+-----+\n",
      "|    10|    1|\n",
      "|   100|    1|\n",
      "|100001|    0|\n",
      "|100002|    1|\n",
      "|100003|    0|\n",
      "+------+-----+\n",
      "only showing top 5 rows\n",
      "\n"
     ]
    }
   ],
   "source": [
    "#preview the level_feature dataframe\n",
    "level_feature.show(5)"
   ]
  },
  {
   "cell_type": "code",
   "execution_count": 51,
   "metadata": {},
   "outputs": [
    {
     "name": "stdout",
     "output_type": "stream",
     "text": [
      "+------+------+\n",
      "|userId|gender|\n",
      "+------+------+\n",
      "|    10|     1|\n",
      "|   100|     1|\n",
      "|100001|     0|\n",
      "|100002|     0|\n",
      "|100003|     0|\n",
      "+------+------+\n",
      "only showing top 5 rows\n",
      "\n"
     ]
    }
   ],
   "source": [
    "gender_feature.show(5)"
   ]
  },
  {
   "cell_type": "markdown",
   "metadata": {},
   "source": [
    "## 4c. total length of songs listened to"
   ]
  },
  {
   "cell_type": "code",
   "execution_count": 52,
   "metadata": {},
   "outputs": [
    {
     "name": "stdout",
     "output_type": "stream",
     "text": [
      "+-------+-----------------+\n",
      "|summary|           length|\n",
      "+-------+-----------------+\n",
      "|  count|           228108|\n",
      "|   mean|249.1171819778458|\n",
      "| stddev|99.23517921058361|\n",
      "|    min|          0.78322|\n",
      "|    max|       3024.66567|\n",
      "+-------+-----------------+\n",
      "\n"
     ]
    }
   ],
   "source": [
    "#take a quick look at hte length column of the cleaned sparkify dataframe\n",
    "sparkify_churn.describe('length').show()"
   ]
  },
  {
   "cell_type": "code",
   "execution_count": 53,
   "metadata": {},
   "outputs": [],
   "source": [
    "#create a dataframe containing the sum of the lenghts of songs listened to for each user\n",
    "song_length = sparkify_churn.select('userId','length').groupby('userId').sum().orderBy('userId')"
   ]
  },
  {
   "cell_type": "markdown",
   "metadata": {},
   "source": [
    "## 4d. number of days registered"
   ]
  },
  {
   "cell_type": "code",
   "execution_count": 54,
   "metadata": {},
   "outputs": [
    {
     "name": "stdout",
     "output_type": "stream",
     "text": [
      "+------+--------+\n",
      "|userId|reg_days|\n",
      "+------+--------+\n",
      "|    10|      51|\n",
      "|   100|      64|\n",
      "|100001|      44|\n",
      "|100002|     160|\n",
      "|100003|      22|\n",
      "+------+--------+\n",
      "only showing top 5 rows\n",
      "\n"
     ]
    }
   ],
   "source": [
    "# create a user defined function to calculate the time since registration\n",
    "days_registered_udf = udf(lambda x: timedelta(seconds=x).days, IntegerType())\n",
    "\n",
    "# create a new column ('reg_days') to contain the days registered\n",
    "days_registered = sparkify_churn.select('userId', 'registration', 'ts').withColumn('reg_days', (sparkify_churn.ts - sparkify_churn.registration)/1000)\n",
    "days_registered = days_registered.withColumn(\"reg_days\", days_registered_udf(\"reg_days\"))\n",
    "\n",
    "# get the maximum\n",
    "days_registered = days_registered.select('userId', 'reg_days').groupBy('userId').agg({'reg_days': 'max'}).withColumnRenamed('max(reg_days)', 'reg_days')\n",
    "days_registered.sort('userId').show(5)"
   ]
  },
  {
   "cell_type": "markdown",
   "metadata": {},
   "source": [
    "Now that we've created dataframes for each features, let's combine them into a single dataframe, which we can then use when generating the churn prediction model:"
   ]
  },
  {
   "cell_type": "code",
   "execution_count": 55,
   "metadata": {},
   "outputs": [],
   "source": [
    "features = page_features.join(song_length,on='userId',how='left') \\\n",
    "                .join(gender_feature,on='userId') \\\n",
    "                .join(level_feature,on='userId') \\\n",
    "                .join(days_registered,on='userId')"
   ]
  },
  {
   "cell_type": "code",
   "execution_count": 56,
   "metadata": {},
   "outputs": [],
   "source": [
    "# convert data type for each column (from 2 on since these are the features) into float and fill nulls with zeros (since these are counts)\n",
    "for f in features.columns[2:]:\n",
    "    features = features.withColumn(f,features[f].cast('float')).fillna(0)"
   ]
  },
  {
   "cell_type": "code",
   "execution_count": 57,
   "metadata": {},
   "outputs": [
    {
     "data": {
      "text/plain": [
       "[('userId', 'string'),\n",
       " ('churn', 'float'),\n",
       " ('thumbs_down', 'float'),\n",
       " ('thumbs_up', 'float'),\n",
       " ('roll_advert', 'float'),\n",
       " ('upgrade', 'float'),\n",
       " ('downgrade', 'float'),\n",
       " ('add_friend', 'float'),\n",
       " ('add_to_playlist', 'float'),\n",
       " ('sum(length)', 'float'),\n",
       " ('gender', 'float'),\n",
       " ('level', 'float'),\n",
       " ('reg_days', 'float')]"
      ]
     },
     "execution_count": 57,
     "metadata": {},
     "output_type": "execute_result"
    }
   ],
   "source": [
    "#check that the feature datatypes look ok\n",
    "features.dtypes"
   ]
  },
  {
   "cell_type": "markdown",
   "metadata": {},
   "source": [
    "# 5. Modeling<a class=\"anchor\" id=\"model\"></a>\n",
    "Split the full dataset into train, test, and validation sets. Test out several of the machine learning methods you learned. Evaluate the accuracy of the various models, tuning parameters as necessary. Determine your winning model based on test accuracy and report results on the validation set. Since the churned users are a fairly small subset, I suggest using F1 score as the metric to optimize."
   ]
  },
  {
   "cell_type": "code",
   "execution_count": 59,
   "metadata": {},
   "outputs": [],
   "source": [
    "from pyspark.ml.classification import LogisticRegression, RandomForestClassifier\n",
    "\n",
    "from pyspark.ml import Pipeline\n",
    "from pyspark.ml.feature import MinMaxScaler, VectorAssembler, StandardScaler, StringIndexer\n",
    "\n",
    "from pyspark.ml.evaluation import MulticlassClassificationEvaluator as evaluate\n",
    "from pyspark.ml.tuning import CrossValidator, ParamGridBuilder"
   ]
  },
  {
   "cell_type": "code",
   "execution_count": 60,
   "metadata": {},
   "outputs": [],
   "source": [
    "#split the data into train and test sets\n",
    "train, test = features.randomSplit([0.8, 0.2], seed=42)"
   ]
  },
  {
   "cell_type": "code",
   "execution_count": 61,
   "metadata": {},
   "outputs": [
    {
     "name": "stdout",
     "output_type": "stream",
     "text": [
      "training data count:  191\n",
      "test data count:  34\n"
     ]
    }
   ],
   "source": [
    "print('training data count: ',train.count())\n",
    "print('test data count: ',test.count())"
   ]
  },
  {
   "cell_type": "markdown",
   "metadata": {},
   "source": [
    "## 5a. Make Model Pipelines"
   ]
  },
  {
   "cell_type": "code",
   "execution_count": 62,
   "metadata": {},
   "outputs": [],
   "source": [
    "def make_scaled_pipeline(numerical_features, model):\n",
    "    \"\"\"\n",
    "    make a pipeline that assembles and scales numerical features and runs a user-specified model\n",
    "    this will be useful for logistic regression models, for example where scaling is important \n",
    "    to ensure features with large values are not over-represented\n",
    "    \n",
    "    ARGS:\n",
    "    numerical_features - the numerical features included in model that will be assembled and scaled\n",
    "    model - the specified machine learning model\n",
    "    \n",
    "    RETURNS:\n",
    "    Pipeline - pyspark machine learning pipeline including vector assembly, scaling with min-max scaler, and the model (input)\n",
    "    \"\"\"\n",
    "    assembler = VectorAssembler(inputCols=numerical_features, outputCol=\"num_features\")\n",
    "    scaler = MinMaxScaler(inputCol=\"num_features\", outputCol=\"scaled_features\")\n",
    "\n",
    "    return Pipeline(stages=[assembler,scaler,model])"
   ]
  },
  {
   "cell_type": "code",
   "execution_count": 63,
   "metadata": {},
   "outputs": [],
   "source": [
    "def make_unscaled_pipeline(numerical_features, model):\n",
    "    \"\"\"\n",
    "    make pipeline that assembles numerical features and runs a user-specified model that does not require scaling\n",
    "    this is useful for models like Random Forest that do not require scaled data\n",
    "    \n",
    "    ARGS:\n",
    "    numerical features - the numerical features included in model that will be assembled and run in the model\n",
    "    model - the specified machine learning model\n",
    "    \n",
    "    RETURNs:\n",
    "    Pipeline - pyspark machine learning pipeline including the vector assempby and model in question\n",
    "    \"\"\"\n",
    "    assembler = VectorAssembler(inputCols=numerical_features, outputCol=\"num_features\")\n",
    "\n",
    "    return Pipeline(stages=[assembler,model])"
   ]
  },
  {
   "cell_type": "markdown",
   "metadata": {},
   "source": [
    "## 5b. Model Evaluation \n",
    "As recommended, let's use the F1-score to evaluate our model performance. This is one of the better metrics to used for imbalanced data (such as this case, where the % churned is fairly low). A little more background on why F1 scores are good metrics for imbalanced data can be found on this blog (which talks about a spam email classification problem, which is another common imbalanced case):\n",
    "\n",
    "https://sebastianraschka.com/faq/docs/computing-the-f1-score.html\n",
    "\n",
    "F1-score can be defined as the harmonic mean of precision (P) and recall (R):\n",
    "\n",
    "$$F1 = \\frac{(P * R)}{(P + R)}$$\n",
    "\n",
    "Where metrics P and R are written in terms of true positives (TP), true negatives (TN), false positives (FP), and false negatives (FN) as follows:\n",
    "\n",
    "$$P = \\frac{TP}{(TP + FP)}$$\n",
    "$$R = \\frac{TP}{(TP + FN)}$$\n",
    "\n",
    "So in this case, the precision gives a score (from 0 to 1) of the proportion of how many users that churned (TP) we correctly classified as churned among all the users we classified as churned (TP + FP). The recall tells us about how many of the actual churned users (TP) we recalled (TP + FN)."
   ]
  },
  {
   "cell_type": "code",
   "execution_count": 64,
   "metadata": {},
   "outputs": [],
   "source": [
    "#create evaluators using f1 metric \n",
    "evaluator_train = evaluate(labelCol='churn', metricName='f1')\n",
    "evaluator_test = evaluate(predictionCol=\"prediction\", labelCol=\"churn\")"
   ]
  },
  {
   "cell_type": "markdown",
   "metadata": {},
   "source": [
    "## 5c. Model 1: Logistic Regression\n",
    "\n",
    "Let's try out two different models for comparison: \n",
    "1) Logistic Regression (requires feature scaling)\n",
    "2) Random Forest Regression (does not requre feature scaling)"
   ]
  },
  {
   "cell_type": "code",
   "execution_count": 65,
   "metadata": {},
   "outputs": [
    {
     "name": "stdout",
     "output_type": "stream",
     "text": [
      "CPU times: user 9.38 s, sys: 2.22 s, total: 11.6 s\n",
      "Wall time: 22min 50s\n"
     ]
    }
   ],
   "source": [
    "%%time\n",
    "lr = LogisticRegression(featuresCol=\"scaled_features\", labelCol=\"churn\")\n",
    "\n",
    "# use the default parameters to start (takes a long time so will keep it simple for this practice run)\n",
    "param = ParamGridBuilder().build()\n",
    "pipeline = make_scaled_pipeline(features.columns[2:], lr)\n",
    "\n",
    "lr_cv = CrossValidator(estimator=pipeline, estimatorParamMaps=param, evaluator=evaluator_train, numFolds=3)\n",
    "\n",
    "lr_cv_model = lr_cv.fit(train)\n",
    "lr_pred = lr_cv_model.transform(test)"
   ]
  },
  {
   "cell_type": "code",
   "execution_count": 66,
   "metadata": {},
   "outputs": [
    {
     "name": "stdout",
     "output_type": "stream",
     "text": [
      "Logistic Regression F1-Score: 0.78\n"
     ]
    }
   ],
   "source": [
    "# check the f1 score to see how we did:\n",
    "lr_f1_score = evaluator_test.evaluate(lr_pred, {evaluator_test.metricName: \"f1\"})\n",
    "print(\"Logistic Regression F1-Score: {:.2f}\".format(lr_f1_score))"
   ]
  },
  {
   "cell_type": "markdown",
   "metadata": {},
   "source": [
    "## 5d. Model 2: Random Forest"
   ]
  },
  {
   "cell_type": "code",
   "execution_count": 67,
   "metadata": {},
   "outputs": [
    {
     "name": "stdout",
     "output_type": "stream",
     "text": [
      "CPU times: user 2.28 s, sys: 554 ms, total: 2.83 s\n",
      "Wall time: 12min 56s\n"
     ]
    }
   ],
   "source": [
    "%%time\n",
    "rf = RandomForestClassifier(featuresCol=\"num_features\", labelCol=\"churn\")\n",
    "\n",
    "# use the default parameters to start\n",
    "param = ParamGridBuilder().build()\n",
    "rf_pipeline = make_unscaled_pipeline(features.columns[2:], rf)\n",
    "\n",
    "rf_cv = CrossValidator(estimator=rf_pipeline, estimatorParamMaps=param, evaluator=evaluator_train, numFolds=3)\n",
    "\n",
    "rf_cv_model = rf_cv.fit(train)\n",
    "rf_cv_pred = rf_cv_model.transform(test)"
   ]
  },
  {
   "cell_type": "code",
   "execution_count": 68,
   "metadata": {},
   "outputs": [
    {
     "name": "stdout",
     "output_type": "stream",
     "text": [
      "Random Forest F1-Score: 0.84\n"
     ]
    }
   ],
   "source": [
    "rf_f1_score = evaluator_test.evaluate(rf_cv_pred, {evaluator_test.metricName: \"f1\"})\n",
    "print(\"Random Forest F1-Score: {:.2f}\".format(rf_f1_score))"
   ]
  },
  {
   "cell_type": "markdown",
   "metadata": {},
   "source": [
    "not too shabby!"
   ]
  },
  {
   "cell_type": "markdown",
   "metadata": {},
   "source": [
    "## 5e. Model Assessment \n",
    "\n",
    "### i. compare model results to baseline\n",
    "\n",
    "Going back to the imbalance of the data - since users who cchurn represents a small percentage of the overall users, it is important to get a baseline score for if we just predicted zero churn. We can do that by creating a dataframe consisting of zeros for every user, and getting the F1-score:"
   ]
  },
  {
   "cell_type": "code",
   "execution_count": 71,
   "metadata": {},
   "outputs": [
    {
     "name": "stdout",
     "output_type": "stream",
     "text": [
      "F1-Score for Predicting Zero Churn: 0.66\n"
     ]
    }
   ],
   "source": [
    "#https://stackoverflow.com/questions/32788322/how-to-add-a-constant-column-in-a-spark-dataframe\n",
    "zero_churn = test.select('churn').withColumn('prediction', lit(0.0))\n",
    "min_f1_score = evaluator_test.evaluate(zero_churn, {evaluator_test.metricName: \"f1\"})\n",
    "print(\"F1-Score for Predicting Zero Churn: {:.2f}\".format(min_f1_score))"
   ]
  },
  {
   "cell_type": "markdown",
   "metadata": {},
   "source": [
    "**F1-Score Summary**:\n",
    "\n",
    "- Logistic Regression: 0.78\n",
    "- Random Forest: 0.84\n",
    "- Nobody Churns: 0.66\n",
    "\n",
    "We can see that both of the models we generated do a better job than if we just predicted that no users churn, so that's good news at least. "
   ]
  },
  {
   "cell_type": "markdown",
   "metadata": {},
   "source": [
    "### ii. random forest feature importance\n",
    "To get a better sense of the features that the model used most, I generated a single random forest model fit to the pipeline (without using the cross-validation), and looked at the `featureImportances` attribute"
   ]
  },
  {
   "cell_type": "code",
   "execution_count": 72,
   "metadata": {},
   "outputs": [],
   "source": [
    "rf_model = rf_pipeline.fit(train)\n",
    "rf_pred = rf_model.transform(test)"
   ]
  },
  {
   "cell_type": "code",
   "execution_count": 73,
   "metadata": {},
   "outputs": [
    {
     "name": "stdout",
     "output_type": "stream",
     "text": [
      "+------+-----+-----------+---------+-----------+-------+---------+----------+---------------+-----------+------+-----+--------+--------------------+--------------------+--------------------+----------+\n",
      "|userId|churn|thumbs_down|thumbs_up|roll_advert|upgrade|downgrade|add_friend|add_to_playlist|sum(length)|gender|level|reg_days|        num_features|       rawPrediction|         probability|prediction|\n",
      "+------+-----+-----------+---------+-----------+-------+---------+----------+---------------+-----------+------+-----+--------+--------------------+--------------------+--------------------+----------+\n",
      "|200002|  0.0|        6.0|     21.0|        7.0|    2.0|      5.0|       4.0|            8.0|  94008.875|   1.0|  0.0|    70.0|[6.0,21.0,7.0,2.0...|[15.7870493519216...|[0.78935246759608...|       0.0|\n",
      "|    51|  1.0|       21.0|    100.0|        0.0|    0.0|     23.0|      28.0|           52.0|  523275.84|   1.0|  1.0|    19.0|[21.0,100.0,0.0,0...|[11.3293207078962...|[0.56646603539481...|       0.0|\n",
      "|    15|  0.0|       14.0|     81.0|        1.0|    0.0|     28.0|      31.0|           59.0|   477307.6|   1.0|  1.0|    56.0|[14.0,81.0,1.0,0....|[9.04921182526271...|[0.45246059126313...|       1.0|\n",
      "|     3|  1.0|        3.0|     14.0|        1.0|    0.0|      2.0|       1.0|            4.0|  54424.746|   1.0|  1.0|    80.0|[3.0,14.0,1.0,0.0...|[16.6691805165661...|[0.83345902582830...|       0.0|\n",
      "|    34|  0.0|        0.0|      2.0|        3.0|    0.0|      0.0|       0.0|            4.0|  12931.085|   1.0|  0.0|    71.0|(11,[1,2,6,7,8,10...|[16.2326564572904...|[0.81163282286452...|       0.0|\n",
      "+------+-----+-----------+---------+-----------+-------+---------+----------+---------------+-----------+------+-----+--------+--------------------+--------------------+--------------------+----------+\n",
      "only showing top 5 rows\n",
      "\n"
     ]
    }
   ],
   "source": [
    "rf_pred.show(5)"
   ]
  },
  {
   "cell_type": "markdown",
   "metadata": {},
   "source": [
    "The next couple cells show some of the properties that are stored in the random forest model object:"
   ]
  },
  {
   "cell_type": "code",
   "execution_count": 74,
   "metadata": {},
   "outputs": [
    {
     "data": {
      "text/plain": [
       "[VectorAssembler_48a27b24539d,\n",
       " RandomForestClassificationModel (uid=RandomForestClassifier_b0c604ec3ebd) with 20 trees]"
      ]
     },
     "execution_count": 74,
     "metadata": {},
     "output_type": "execute_result"
    }
   ],
   "source": [
    "#look at the stages included in the random forest pipeline\n",
    "rf_model.stages"
   ]
  },
  {
   "cell_type": "code",
   "execution_count": 75,
   "metadata": {},
   "outputs": [
    {
     "data": {
      "text/plain": [
       "SparseVector(11, {0: 0.1044, 1: 0.0694, 2: 0.1075, 3: 0.0194, 4: 0.0496, 5: 0.0983, 6: 0.0621, 7: 0.1117, 8: 0.0131, 9: 0.0118, 10: 0.3526})"
      ]
     },
     "execution_count": 75,
     "metadata": {},
     "output_type": "execute_result"
    }
   ],
   "source": [
    "# the random forest classification model stage includes feature importances\n",
    "rf_model.stages[-1].featureImportances"
   ]
  },
  {
   "cell_type": "markdown",
   "metadata": {},
   "source": [
    "Looking at this blog, I used the function `ExtractFeatureImp`, modified a bit to create a dataframe containing the \n",
    "https://www.timlrx.com/2018/06/19/feature-selection-using-feature-importance-score-creating-a-pyspark-estimator/\n",
    "   "
   ]
  },
  {
   "cell_type": "code",
   "execution_count": 76,
   "metadata": {},
   "outputs": [],
   "source": [
    "def make_feature_importance_df(feature_importance, dataset, features):\n",
    "    \"\"\"\n",
    "    make_feature_importance dataframe maps the feature importances back to the feature names and returns a dataframe\n",
    "    ARGS:\n",
    "    feature_importance: feature importance from the model (rf_model.stages[-1].featureImportances)\n",
    "    dataset - the predicted model dataframe (rf_pred)\n",
    "    features - features to map ( num_features)\n",
    "    \n",
    "    RETURNS\n",
    "    feature_map_df - dataframe containing feature and feature importance (score)\n",
    "    \"\"\"\n",
    "    feature_list = []\n",
    "    for i in dataset.schema[features].metadata[\"ml_attr\"][\"attrs\"]:\n",
    "        feature_list = feature_list + dataset.schema[features].metadata[\"ml_attr\"][\"attrs\"][i]\n",
    "    feature_df = pd.DataFrame(feature_list)\n",
    "    feature_df['score'] = feature_df['idx'].apply(lambda x: feature_importance[x])\n",
    "    feature_map_df = feature_df.sort_values('score', ascending = False).drop(columns=['idx']).set_index('name')\n",
    "    return feature_map_df"
   ]
  },
  {
   "cell_type": "code",
   "execution_count": 77,
   "metadata": {},
   "outputs": [
    {
     "data": {
      "text/html": [
       "<div>\n",
       "<style scoped>\n",
       "    .dataframe tbody tr th:only-of-type {\n",
       "        vertical-align: middle;\n",
       "    }\n",
       "\n",
       "    .dataframe tbody tr th {\n",
       "        vertical-align: top;\n",
       "    }\n",
       "\n",
       "    .dataframe thead th {\n",
       "        text-align: right;\n",
       "    }\n",
       "</style>\n",
       "<table border=\"1\" class=\"dataframe\">\n",
       "  <thead>\n",
       "    <tr style=\"text-align: right;\">\n",
       "      <th></th>\n",
       "      <th>score</th>\n",
       "    </tr>\n",
       "    <tr>\n",
       "      <th>name</th>\n",
       "      <th></th>\n",
       "    </tr>\n",
       "  </thead>\n",
       "  <tbody>\n",
       "    <tr>\n",
       "      <th>reg_days</th>\n",
       "      <td>0.352599</td>\n",
       "    </tr>\n",
       "    <tr>\n",
       "      <th>sum(length)</th>\n",
       "      <td>0.111692</td>\n",
       "    </tr>\n",
       "    <tr>\n",
       "      <th>roll_advert</th>\n",
       "      <td>0.107482</td>\n",
       "    </tr>\n",
       "    <tr>\n",
       "      <th>thumbs_down</th>\n",
       "      <td>0.104417</td>\n",
       "    </tr>\n",
       "    <tr>\n",
       "      <th>add_friend</th>\n",
       "      <td>0.098294</td>\n",
       "    </tr>\n",
       "    <tr>\n",
       "      <th>thumbs_up</th>\n",
       "      <td>0.069418</td>\n",
       "    </tr>\n",
       "    <tr>\n",
       "      <th>add_to_playlist</th>\n",
       "      <td>0.062148</td>\n",
       "    </tr>\n",
       "    <tr>\n",
       "      <th>downgrade</th>\n",
       "      <td>0.049629</td>\n",
       "    </tr>\n",
       "    <tr>\n",
       "      <th>upgrade</th>\n",
       "      <td>0.019424</td>\n",
       "    </tr>\n",
       "    <tr>\n",
       "      <th>gender</th>\n",
       "      <td>0.013136</td>\n",
       "    </tr>\n",
       "    <tr>\n",
       "      <th>level</th>\n",
       "      <td>0.011760</td>\n",
       "    </tr>\n",
       "  </tbody>\n",
       "</table>\n",
       "</div>"
      ],
      "text/plain": [
       "                    score\n",
       "name                     \n",
       "reg_days         0.352599\n",
       "sum(length)      0.111692\n",
       "roll_advert      0.107482\n",
       "thumbs_down      0.104417\n",
       "add_friend       0.098294\n",
       "thumbs_up        0.069418\n",
       "add_to_playlist  0.062148\n",
       "downgrade        0.049629\n",
       "upgrade          0.019424\n",
       "gender           0.013136\n",
       "level            0.011760"
      ]
     },
     "execution_count": 77,
     "metadata": {},
     "output_type": "execute_result"
    }
   ],
   "source": [
    "feature_importance_df = make_feature_importance_df(rf_model.stages[-1].featureImportances, rf_pred, \"num_features\")\n",
    "feature_importance_df"
   ]
  },
  {
   "cell_type": "code",
   "execution_count": 78,
   "metadata": {},
   "outputs": [
    {
     "data": {
      "text/plain": [
       "<matplotlib.axes._subplots.AxesSubplot at 0x7f35c23654a8>"
      ]
     },
     "execution_count": 78,
     "metadata": {},
     "output_type": "execute_result"
    },
    {
     "data": {
      "image/png": "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\n",
      "text/plain": [
       "<matplotlib.figure.Figure at 0x7f35c0170128>"
      ]
     },
     "metadata": {
      "needs_background": "light"
     },
     "output_type": "display_data"
    }
   ],
   "source": [
    "#plot for better visualization\n",
    "feature_importance_df.plot(kind='bar')"
   ]
  },
  {
   "cell_type": "markdown",
   "metadata": {},
   "source": [
    "# 6. Discussion<a class=\"anchor\" id=\"discussion\"></a>\n",
    "\n",
    "This analysis provided a great way to work through a real-world problem on a large dataset using a cloud computing framework. Following along the recommendations in the provided sparkify project workspace template notebook provided, I carried out the major steps outlined in the Table of Content from exploratory data analysis to modeling.\n",
    "\n",
    "As we learned in the first part of this data science program, a large majority of time spent as a Data Scientist involves pre-processing the data, which includes cleaning the dataset and exploring and visualizing the data to look for trends and relationships between variables of interest. This was certainly the case for this project; while the modeling took some time, the implementation was fairly straightforward (albeit it required some learning some new syntax specific to the PySpark framework). \n",
    "\n",
    "Further Analysis:\n",
    "Since the models I ran took such a long time, I did not get into model tuning as much as I would have liked, but the results from the two models I tested both looked pretty decent. \n",
    "\n",
    "I would recommend that Sparkify pays particular attention to newer users who are rating songs poorly (thumbs down) and perhaps target these as the high-risk churners. "
   ]
  },
  {
   "cell_type": "markdown",
   "metadata": {},
   "source": [
    "## Notes on Implementation\n",
    "\n",
    "In creating these models, I ran into a few errors intitially that I needed to resolve for the program to run, as well as some personal challenges. These included:\n",
    "1. Handling null values - I first tried to run the models before setting the feature null values to zero, which caused an error. In this case it made sense just to set the page counts to zero because if there were no counts that means there were no instances of views on that page\n",
    "2. Joining dataframes - I originally tried to join all the page dataframes into a single one all in one loop, but this resulted in a dataframe of length zero because some of the pages had zero interactions (from any user). I ended up creating a dictionary of each dataframe separately and merging them together. \n",
    "3. `PySpark` syntax - it was (and is) a little difficult to adapt to this syntax, which is completely new for me - it is similar but different from python pandas and sql ... this will require more practice to get familiar and comfortable working with this library. The `PySpark` error messages were also difficult to decipher because it required digging through long longs to find out the relevant part that required fixing. "
    "4. Time: it took a lot of time to run the two models, without testing grid search parameters. For this reason I kept it simple (and even then it took 15-30 minutes to generate a single model), but given more computing power (as is the idea with running in a cloud computing environmnet), this would be something to investigate further. 
    "5. Deploying on the cluster: I attempted to run this on IBM Watson Studio but was unable to find the same options as were shown in the Cloud Deployment Instructions. It was difficult to navigate this, either because the windows changed since the instructions were written. I was hoping I could run on this to speed up the process (even with the larger dataset) and get more into the model tuning, but the overhead was high for having such little background."
   ]
  }
 ],
 "metadata": {
  "kernelspec": {
   "display_name": "Python 3",
   "language": "python",
   "name": "python3"
  },
  "language_info": {
   "codemirror_mode": {
    "name": "ipython",
    "version": 3
   },
   "file_extension": ".py",
   "mimetype": "text/x-python",
   "name": "python",
   "nbconvert_exporter": "python",
   "pygments_lexer": "ipython3",
   "version": "3.6.3"
  }
 },
 "nbformat": 4,
 "nbformat_minor": 2
}
